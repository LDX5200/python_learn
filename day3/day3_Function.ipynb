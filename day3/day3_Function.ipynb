{
 "cells": [
  {
   "cell_type": "markdown",
   "metadata": {},
   "source": [
    "# 函数"
   ]
  },
  {
   "cell_type": "code",
   "execution_count": 3,
   "metadata": {},
   "outputs": [
    {
     "name": "stdout",
     "output_type": "stream",
     "text": [
      "字符串asdasd的长度是6\n"
     ]
    }
   ],
   "source": [
    "#定义函数\n",
    "def my_length(data):\n",
    "    count = int(0)\n",
    "    for i in data:\n",
    "        count += 1 \n",
    "    print(f'字符串{data}的长度是{count}')\n",
    "\n",
    "#调用函数\n",
    "my_length(\"asdasd\")"
   ]
  },
  {
   "cell_type": "markdown",
   "metadata": {},
   "source": [
    "## 传入参数"
   ]
  },
  {
   "cell_type": "code",
   "execution_count": 5,
   "metadata": {},
   "outputs": [
    {
     "data": {
      "text/plain": [
       "4"
      ]
     },
     "execution_count": 5,
     "metadata": {},
     "output_type": "execute_result"
    }
   ],
   "source": [
    "#形式参数\n",
    "def add(x,y):\n",
    "    return x + y\n",
    "\n",
    "#实参\n",
    "add(1,3)"
   ]
  },
  {
   "cell_type": "code",
   "execution_count": 9,
   "metadata": {},
   "outputs": [
    {
     "name": "stdout",
     "output_type": "stream",
     "text": [
      "please show your temp\n",
      "welcome\n"
     ]
    }
   ],
   "source": [
    "#练习\n",
    "def exam(temp):\n",
    "    print(\"please show your temp\")\n",
    "    if temp > 37.5:\n",
    "        print(\"sorry you can not in \")\n",
    "    elif temp > 0 and temp <= 37.5:\n",
    "        print(\"welcome\")\n",
    "\n",
    "\n",
    "exam(int(input()))"
   ]
  },
  {
   "cell_type": "code",
   "execution_count": 12,
   "metadata": {},
   "outputs": [
    {
     "name": "stdout",
     "output_type": "stream",
     "text": [
      "<class 'NoneType'>\n",
      "<class 'int'>\n",
      "0\n"
     ]
    }
   ],
   "source": [
    "#None\n",
    "print(type(None))\n",
    "test1 = int()\n",
    "#不能 test = int(None)\n",
    "print(type(test1))\n",
    "print(test1)"
   ]
  },
  {
   "cell_type": "code",
   "execution_count": 14,
   "metadata": {},
   "outputs": [
    {
     "data": {
      "text/plain": [
       "4"
      ]
     },
     "execution_count": 14,
     "metadata": {},
     "output_type": "execute_result"
    }
   ],
   "source": [
    "#说明文档\n",
    "def add(x,y):\n",
    "    '''\n",
    "    add: x+y\n",
    "    param x : 1st \n",
    "    param y : 2st\n",
    "    return : x + y\n",
    "    '''\n",
    "    return x + y\n",
    "\n",
    "\n",
    "add(1,3)"
   ]
  },
  {
   "cell_type": "markdown",
   "metadata": {},
   "source": [
    "## 嵌套调用\n",
    "就是函数套函数 you know"
   ]
  },
  {
   "cell_type": "markdown",
   "metadata": {},
   "source": [
    "## 函数作用域\n",
    "区分局部变量和全局变量"
   ]
  },
  {
   "cell_type": "code",
   "execution_count": 17,
   "metadata": {},
   "outputs": [
    {
     "ename": "NameError",
     "evalue": "name 'num1' is not defined",
     "output_type": "error",
     "traceback": [
      "\u001b[1;31m---------------------------------------------------------------------------\u001b[0m",
      "\u001b[1;31mNameError\u001b[0m                                 Traceback (most recent call last)",
      "\u001b[1;32m~\\AppData\\Local\\Temp\\ipykernel_28884\\2274482462.py\u001b[0m in \u001b[0;36m<module>\u001b[1;34m\u001b[0m\n\u001b[0;32m     17\u001b[0m     \u001b[0mnum1\u001b[0m \u001b[1;33m=\u001b[0m \u001b[1;36m500\u001b[0m\u001b[1;33m\u001b[0m\u001b[1;33m\u001b[0m\u001b[0m\n\u001b[0;32m     18\u001b[0m     \u001b[0mprint\u001b[0m\u001b[1;33m(\u001b[0m\u001b[0mnum1\u001b[0m\u001b[1;33m)\u001b[0m\u001b[1;33m\u001b[0m\u001b[1;33m\u001b[0m\u001b[0m\n\u001b[1;32m---> 19\u001b[1;33m \u001b[0mprint\u001b[0m\u001b[1;33m(\u001b[0m\u001b[0mnum1\u001b[0m\u001b[1;33m)\u001b[0m\u001b[1;33m\u001b[0m\u001b[1;33m\u001b[0m\u001b[0m\n\u001b[0m\u001b[0;32m     20\u001b[0m \u001b[1;33m\u001b[0m\u001b[0m\n\u001b[0;32m     21\u001b[0m \u001b[1;33m\u001b[0m\u001b[0m\n",
      "\u001b[1;31mNameError\u001b[0m: name 'num1' is not defined"
     ]
    }
   ],
   "source": [
    "num = 100\n",
    "\n",
    "def testA():\n",
    "    print(num)\n",
    "\n",
    "def testB():\n",
    "    num = 500\n",
    "    print(num)\n",
    "\n",
    "def testC():\n",
    "    global num  #global 函数内调用全局变量 所以num可以说是同名的那个 不过也可以说是调用 仁者见仁\n",
    "    num = 500\n",
    "    print(num)\n",
    "\n",
    "def testC():\n",
    "    global num1  \n",
    "    num1 = 500\n",
    "    print(num1)\n",
    "\n",
    "print(num1)\n",
    "\n",
    "\n",
    "print(num) #100 \n",
    "testA()    #100\n",
    "testB()    #500\n",
    "print(num) #100\n",
    "testC()    #500\n",
    "print(num) #500"
   ]
  },
  {
   "cell_type": "code",
   "execution_count": 20,
   "metadata": {},
   "outputs": [
    {
     "name": "stdout",
     "output_type": "stream",
     "text": [
      "请输入您需要的功能\n",
      "1 --- 查询余额\n",
      "2 --- 存款\n",
      "3 --- 取款\n",
      "其他 --- 退出\n",
      "请输入你要存多少钱\n",
      "存款成功\n",
      "您的余额5000100元\n",
      "请输入您需要的功能\n",
      "1 --- 查询余额\n",
      "2 --- 存款\n",
      "3 --- 取款\n",
      "其他 --- 退出\n"
     ]
    }
   ],
   "source": [
    "\n",
    "#综合案例 ATM\n",
    "money = int(5000000)\n",
    "name = str(input())\n",
    "\n",
    "def check():\n",
    "    print(f'您当前的余额是{money}')\n",
    "\n",
    "def save():\n",
    "    global money\n",
    "    print(\"请输入你要存多少钱\")\n",
    "    inmoney = int(input())\n",
    "    money = money + inmoney\n",
    "    print(\"存款成功\")\n",
    "    print(f\"您的余额{money}元\")\n",
    "\n",
    "def withdraw():\n",
    "    global money\n",
    "    print(\"请输入你取存多少钱\")\n",
    "    outmoney = int(input())\n",
    "    money = money - outmoney\n",
    "    print(\"取款成功\")\n",
    "    print(f\"您的余额{money}元\")\n",
    "\n",
    "def menu():\n",
    "    while(1):\n",
    "        print(\"请输入您需要的功能\")\n",
    "        print(\"1 --- 查询余额\")\n",
    "        print(\"2 --- 存款\")\n",
    "        print(\"3 --- 取款\")\n",
    "        print(\"其他 --- 退出\")\n",
    "        num = int(input())\n",
    "        if num == 1:\n",
    "            check()\n",
    "            continue\n",
    "        elif num == 2:\n",
    "            save()\n",
    "            continue\n",
    "        elif num == 3:\n",
    "            withdraw()\n",
    "            continue\n",
    "        else:\n",
    "            break\n",
    "\n",
    "menu()\n",
    "\n",
    "\n"
   ]
  }
 ],
 "metadata": {
  "kernelspec": {
   "display_name": "base",
   "language": "python",
   "name": "python3"
  },
  "language_info": {
   "codemirror_mode": {
    "name": "ipython",
    "version": 3
   },
   "file_extension": ".py",
   "mimetype": "text/x-python",
   "name": "python",
   "nbconvert_exporter": "python",
   "pygments_lexer": "ipython3",
   "version": "3.9.13"
  },
  "orig_nbformat": 4
 },
 "nbformat": 4,
 "nbformat_minor": 2
}
