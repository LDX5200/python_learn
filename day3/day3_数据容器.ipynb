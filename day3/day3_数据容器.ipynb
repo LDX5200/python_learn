{
 "cells": [
  {
   "cell_type": "markdown",
   "metadata": {},
   "source": [
    "# 数据容器\n",
    "list\n",
    "tuple\n",
    "set\n",
    "dict"
   ]
  },
  {
   "cell_type": "markdown",
   "metadata": {},
   "source": [
    "## list 列表 []"
   ]
  },
  {
   "cell_type": "code",
   "execution_count": null,
   "metadata": {},
   "outputs": [],
   "source": [
    "#定义\n",
    "list = [1,2,3,4]\n",
    "#定义空列表\n",
    "name = list()\n",
    "list1 = []"
   ]
  },
  {
   "cell_type": "code",
   "execution_count": 4,
   "metadata": {},
   "outputs": [
    {
     "name": "stdout",
     "output_type": "stream",
     "text": [
      "['sd', 123, 12.323]\n",
      "[['sd', 123, 12.323], 123, 456]\n",
      "<class 'list'>\n",
      "[[123, 123, 123], 123, 123]\n",
      "<class 'list'>\n"
     ]
    }
   ],
   "source": [
    "#列表内元素任意,可以嵌套\n",
    "list = ['sd',123,12.323]\n",
    "print(list)\n",
    "\n",
    "list1 = [list,123,456]\n",
    "print(list1) \n",
    "print(type(list1))\n",
    "\n",
    "list2 = [[123,123,123],123,123]\n",
    "print(list2)\n",
    "print(type(list2))"
   ]
  },
  {
   "cell_type": "code",
   "execution_count": 8,
   "metadata": {},
   "outputs": [
    {
     "name": "stdout",
     "output_type": "stream",
     "text": [
      "first\n",
      "fourth\n",
      "[['first', 'second', 'third', 'fourth'], ['first', 'second', 'third', 'fourth']]\n",
      "first\n",
      "fourth\n"
     ]
    }
   ],
   "source": [
    "#列表的下表索引\n",
    "list = ['first','second','third','fourth']\n",
    "print(list[0])\n",
    "#-4 -3 -2 -1 最后一个是负1\n",
    "print(list[-1])\n",
    "\n",
    "#嵌套列表的取值 类似于数组\n",
    "list1 = [list,list]\n",
    "print(list1)\n",
    "print(list1[0][0])\n",
    "print(list1[-1][-1])\n"
   ]
  },
  {
   "cell_type": "markdown",
   "metadata": {},
   "source": [
    "## 列表的常用操作"
   ]
  },
  {
   "cell_type": "code",
   "execution_count": null,
   "metadata": {},
   "outputs": [],
   "source": []
  }
 ],
 "metadata": {
  "kernelspec": {
   "display_name": "base",
   "language": "python",
   "name": "python3"
  },
  "language_info": {
   "codemirror_mode": {
    "name": "ipython",
    "version": 3
   },
   "file_extension": ".py",
   "mimetype": "text/x-python",
   "name": "python",
   "nbconvert_exporter": "python",
   "pygments_lexer": "ipython3",
   "version": "3.9.13"
  },
  "orig_nbformat": 4
 },
 "nbformat": 4,
 "nbformat_minor": 2
}
