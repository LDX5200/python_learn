{
 "cells": [
  {
   "cell_type": "markdown",
   "metadata": {},
   "source": [
    "# 文件\n",
    "加油！！！！"
   ]
  },
  {
   "cell_type": "markdown",
   "metadata": {},
   "source": [
    "## 文件的读取"
   ]
  },
  {
   "cell_type": "code",
   "execution_count": 18,
   "metadata": {},
   "outputs": [
    {
     "name": "stdout",
     "output_type": "stream",
     "text": [
      "<class '_io.TextIOWrapper'>\n",
      "<_io.TextIOWrapper name='python.txt' mode='r' encoding='UTF-8'>\n",
      "<class 'list'>\n"
     ]
    }
   ],
   "source": [
    "#open(name,mode,encoding) mode模式：只读，写入，追加\n",
    "f = open('python.txt',\"r\",encoding='UTF-8')\n",
    "print(type(f))\n",
    "print(f)\n",
    "\n",
    "#read方法 会形成一个str\n",
    "# f.read()\n",
    "#read(num)读多少字节\n",
    "#readlines()读一行\n",
    "# print(f.read(10))\n",
    "# #多次调用read会在上次结尾处继续，有一个指针\n",
    "# print(f.read(10))\n",
    "#readlines读几行就加几，不加默认全读 读完之后放到list\n",
    "#同样 还有readline\n",
    "# print(f.readline())\n",
    "print(type(f.readlines(1)))\n",
    "#关闭文件、\n",
    "f.close()"
   ]
  },
  {
   "cell_type": "code",
   "execution_count": 20,
   "metadata": {},
   "outputs": [
    {
     "name": "stdout",
     "output_type": "stream",
     "text": [
      "i love coding!\n",
      "\n",
      "i will success!!!!\n",
      "\n",
      "i must success!!!!!\n"
     ]
    }
   ],
   "source": [
    "#for循环读取文件数据\n",
    "f = open(\"python.txt\",\"r\",encoding=\"UTF-8\")\n",
    "for line in f:\n",
    "    print(line)\n",
    "f.close()"
   ]
  },
  {
   "cell_type": "code",
   "execution_count": 22,
   "metadata": {},
   "outputs": [
    {
     "name": "stdout",
     "output_type": "stream",
     "text": [
      "i love coding!\n",
      "\n",
      "i will success!!!!\n",
      "\n",
      "i must success!!!!!\n"
     ]
    }
   ],
   "source": [
    "#with open 可以自动close\n",
    "with open(\"python.txt\",\"r\",encoding=\"UTF-8\") as f:\n",
    "    for line in f:\n",
    "        print(line)"
   ]
  },
  {
   "cell_type": "code",
   "execution_count": 27,
   "metadata": {},
   "outputs": [
    {
     "name": "stdout",
     "output_type": "stream",
     "text": [
      "6\n",
      "6\n"
     ]
    }
   ],
   "source": [
    "#practice\n",
    "#直接read然后count\n",
    "with open(\"word.txt\",\"r\",encoding=\"UTF-8\") as f:\n",
    "    all = f.read()\n",
    "    print(all.count(\"itheima\"))\n",
    "\n",
    "#一行一行空格切分 str.split() 可以切分成list 然后list也有count 这里开始上强度了 加油！你必然拿下！！！！！\n",
    "f = open(\"word.txt\",\"r\",encoding=\"UTF-8\")\n",
    "count = int(0)\n",
    "for line in f:\n",
    "    new = line.split(\" \")\n",
    "    count += new.count(\"itheima\")\n",
    "print(count)\n",
    "f.close()"
   ]
  }
 ],
 "metadata": {
  "kernelspec": {
   "display_name": "base",
   "language": "python",
   "name": "python3"
  },
  "language_info": {
   "codemirror_mode": {
    "name": "ipython",
    "version": 3
   },
   "file_extension": ".py",
   "mimetype": "text/x-python",
   "name": "python",
   "nbconvert_exporter": "python",
   "pygments_lexer": "ipython3",
   "version": "3.9.13"
  },
  "orig_nbformat": 4
 },
 "nbformat": 4,
 "nbformat_minor": 2
}
