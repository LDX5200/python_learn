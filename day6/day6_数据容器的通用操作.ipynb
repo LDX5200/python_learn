{
 "cells": [
  {
   "cell_type": "markdown",
   "metadata": {},
   "source": [
    "# 通用操作"
   ]
  },
  {
   "cell_type": "code",
   "execution_count": 7,
   "metadata": {},
   "outputs": [
    {
     "name": "stdout",
     "output_type": "stream",
     "text": [
      "3\n",
      "key3\n",
      "key1\n",
      "['key1', 'key2', 'key3']\n",
      "{'key1': 1, 'key2': 2, 'key3': 3}\n",
      "{'key3', 'key2', 'key1'}\n"
     ]
    }
   ],
   "source": [
    "dic = {\"key1\":1,\"key2\":2,\"key3\":3}\n",
    "#len\n",
    "print(len(dic))\n",
    "#max  dic是比较key的大小，不是比较value的大小，是比较的字符串的大小\n",
    "print(max(dic))\n",
    "#min\n",
    "print(min(dic))\n",
    "#可以数据容器之间相互转换\n",
    "#同样 dic转list是转key\n",
    "print(list(dic)) \n",
    "#转str dic能保留\n",
    "print(str(dic))\n",
    "#转集合 不保留value 且顺序乱掉 转字典不好赚 因为需要键值对\n",
    "print(set(dic))"
   ]
  },
  {
   "cell_type": "code",
   "execution_count": 9,
   "metadata": {},
   "outputs": [
    {
     "name": "stdout",
     "output_type": "stream",
     "text": [
      "[1, 1, 2, 2, 3, 4, 23]\n",
      "['key1', 'key2', 'key3']\n",
      "['key3', 'key2', 'key1']\n"
     ]
    }
   ],
   "source": [
    "#排序 sorted\n",
    "list = [1,3,4,2,2,1,23]\n",
    "dic = {\"key2\":2,\"key3\":3,\"key1\":1}\n",
    "#排序的结果都会变成list\n",
    "print(sorted(list))\n",
    "print(sorted(dic))\n",
    "#降序排序 reverse = True\n",
    "print(sorted(dic,reverse=True))"
   ]
  }
 ],
 "metadata": {
  "kernelspec": {
   "display_name": "base",
   "language": "python",
   "name": "python3"
  },
  "language_info": {
   "codemirror_mode": {
    "name": "ipython",
    "version": 3
   },
   "file_extension": ".py",
   "mimetype": "text/x-python",
   "name": "python",
   "nbconvert_exporter": "python",
   "pygments_lexer": "ipython3",
   "version": "3.9.13"
  },
  "orig_nbformat": 4
 },
 "nbformat": 4,
 "nbformat_minor": 2
}
