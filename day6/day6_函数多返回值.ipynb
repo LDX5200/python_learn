{
 "cells": [
  {
   "cell_type": "markdown",
   "metadata": {},
   "source": [
    "# 函数的多返回值"
   ]
  },
  {
   "cell_type": "code",
   "execution_count": 2,
   "metadata": {},
   "outputs": [
    {
     "name": "stdout",
     "output_type": "stream",
     "text": [
      "1 2 3\n"
     ]
    }
   ],
   "source": [
    "def test():\n",
    "    return 1,2,3\n",
    "\n",
    "x,y,z = test()\n",
    "print(x,y,z)"
   ]
  },
  {
   "cell_type": "markdown",
   "metadata": {},
   "source": [
    "# 函数的多种传参方式"
   ]
  },
  {
   "cell_type": "code",
   "execution_count": 3,
   "metadata": {},
   "outputs": [
    {
     "name": "stdout",
     "output_type": "stream",
     "text": [
      "1 3 2\n"
     ]
    }
   ],
   "source": [
    "def test(name,age,gender):\n",
    "    print(name,age,gender)\n",
    "#关键字传参 指定了key，顺序可以打乱\n",
    "test(name = 1,gender = 2,age = 3)\n"
   ]
  },
  {
   "cell_type": "code",
   "execution_count": null,
   "metadata": {},
   "outputs": [],
   "source": [
    "#缺省参数(default 默认) 默认值必须在最后定义\n",
    "def test(name, age ,gender=\"boy\"):\n",
    "    print(name,age,gender)  "
   ]
  },
  {
   "cell_type": "code",
   "execution_count": 6,
   "metadata": {},
   "outputs": [
    {
     "name": "stdout",
     "output_type": "stream",
     "text": [
      "(1, 2, 3, 4, 5, 6)\n",
      "{'name': 1, 'value': 'asd'}\n"
     ]
    }
   ],
   "source": [
    "#不定长参数(可变参数) args = argument参数 key word arguments kwargs 注意不以这两个命名也可以 但是一般是 而且要*/ **\n",
    "def test(*args):\n",
    "    print(args)\n",
    "#位置传递不定长，多少都可以 args是一个tuple\n",
    "\n",
    "def test1(**kwargs):\n",
    "    print(kwargs)\n",
    "#关键字传递，kwargs，传递必须是Key+value kwargs是一个dic\n",
    "\n",
    "test(1,2,3,4,5,6)\n",
    "test1(name = 1,value = \"asd\")"
   ]
  },
  {
   "cell_type": "code",
   "execution_count": 9,
   "metadata": {},
   "outputs": [
    {
     "data": {
      "text/plain": [
       "3"
      ]
     },
     "execution_count": 9,
     "metadata": {},
     "output_type": "execute_result"
    }
   ],
   "source": [
    "#函数作为传递参数\n",
    "def test_func(compute):\n",
    "    return(compute(1,2))\n",
    "\n",
    "def compute(x,y):\n",
    "    return x+y\n",
    "\n",
    "test_func(compute)"
   ]
  },
  {
   "cell_type": "markdown",
   "metadata": {},
   "source": [
    "# 匿名函数 lambda\n",
    "没有名称\\\n",
    "临时使用一次\\\n",
    "lambda 传入参数：函数体(一行代码)"
   ]
  },
  {
   "cell_type": "code",
   "execution_count": 12,
   "metadata": {},
   "outputs": [
    {
     "data": {
      "text/plain": [
       "3"
      ]
     },
     "execution_count": 12,
     "metadata": {},
     "output_type": "execute_result"
    }
   ],
   "source": [
    "def test_func(compute):\n",
    "    return(compute(1,2))\n",
    "test_func(lambda x,y:x + y)"
   ]
  }
 ],
 "metadata": {
  "kernelspec": {
   "display_name": "base",
   "language": "python",
   "name": "python3"
  },
  "language_info": {
   "codemirror_mode": {
    "name": "ipython",
    "version": 3
   },
   "file_extension": ".py",
   "mimetype": "text/x-python",
   "name": "python",
   "nbconvert_exporter": "python",
   "pygments_lexer": "ipython3",
   "version": "3.9.13"
  },
  "orig_nbformat": 4
 },
 "nbformat": 4,
 "nbformat_minor": 2
}
