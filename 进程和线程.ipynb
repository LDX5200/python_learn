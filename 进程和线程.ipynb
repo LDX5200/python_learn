{
 "cells": [
  {
   "cell_type": "markdown",
   "metadata": {},
   "source": [
    "# 多线程编程"
   ]
  },
  {
   "cell_type": "code",
   "execution_count": 4,
   "metadata": {},
   "outputs": [
    {
     "name": "stdout",
     "output_type": "stream",
     "text": [
      "i am singing hahahaha\n",
      "\n",
      "i am dancing lalala\n",
      "\n",
      "i am dancing\n",
      "i am singing\n"
     ]
    },
    {
     "ename": "AttributeError",
     "evalue": "'Thread' object has no attribute 'stop'",
     "output_type": "error",
     "traceback": [
      "\u001b[1;31m---------------------------------------------------------------------------\u001b[0m",
      "\u001b[1;31mAttributeError\u001b[0m                            Traceback (most recent call last)",
      "Cell \u001b[1;32mIn[4], line 20\u001b[0m\n\u001b[0;32m     18\u001b[0m sing_thread\u001b[39m.\u001b[39mstart()\n\u001b[0;32m     19\u001b[0m dance_thread\u001b[39m.\u001b[39mstart()\n\u001b[1;32m---> 20\u001b[0m dance_thread\u001b[39m.\u001b[39;49mstop()\n\u001b[0;32m     21\u001b[0m sing_thread\u001b[39m.\u001b[39mstop()\n",
      "\u001b[1;31mAttributeError\u001b[0m: 'Thread' object has no attribute 'stop'"
     ]
    }
   ],
   "source": [
    "import threading\n",
    "import time\n",
    "\n",
    "\n",
    "def sing(msg:tuple):\n",
    "    while True:\n",
    "        print(msg)\n",
    "        time.sleep(1)\n",
    "        \n",
    "def dance(msg:dict):\n",
    "    while True:\n",
    "        print(msg)\n",
    "        time.sleep(1)\n",
    "        \n",
    "if __name__ == '__main__':\n",
    "    sing_thread = threading.Thread(target = sing, args=(\"i am singing hahahaha\\n\",)) #args代表以元组传参  元组记得带个逗号\n",
    "    dance_thread = threading.Thread(target = dance, kwargs={\"msg\":\"i am dancing lalala\\n\"})\n",
    "    sing_thread.start()\n",
    "    dance_thread.start()\n"
   ]
  }
 ],
 "metadata": {
  "kernelspec": {
   "display_name": "Python 3.9.12 64-bit",
   "language": "python",
   "name": "python3"
  },
  "language_info": {
   "codemirror_mode": {
    "name": "ipython",
    "version": 3
   },
   "file_extension": ".py",
   "mimetype": "text/x-python",
   "name": "python",
   "nbconvert_exporter": "python",
   "pygments_lexer": "ipython3",
   "version": "3.9.12"
  },
  "orig_nbformat": 4,
  "vscode": {
   "interpreter": {
    "hash": "421979bcffd45540d384b167ddb364f8d64d8b25467709921b383bf6ab6961ed"
   }
  }
 },
 "nbformat": 4,
 "nbformat_minor": 2
}
