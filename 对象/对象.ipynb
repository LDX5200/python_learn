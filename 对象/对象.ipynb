{
 "cells": [
  {
   "cell_type": "markdown",
   "metadata": {},
   "source": [
    "# 类和对象"
   ]
  },
  {
   "cell_type": "markdown",
   "metadata": {},
   "source": [
    "## 类的定义"
   ]
  },
  {
   "cell_type": "code",
   "execution_count": 3,
   "metadata": {},
   "outputs": [
    {
     "name": "stdout",
     "output_type": "stream",
     "text": [
      "<__main__.Student object at 0x000001A7C4099640> <__main__.Student object at 0x000001A7C4099580>\n",
      "<class '__main__.Student'>\n",
      "sjw\n"
     ]
    }
   ],
   "source": [
    "#设计类\n",
    "class Student:\n",
    "    name = None\n",
    "\n",
    "#创建对象\n",
    "stu1 = Student()\n",
    "stu2 = Student()\n",
    "\n",
    "#为对象赋值\n",
    "stu1.name = \"sjw\"\n",
    "stu2.name = \"gzh\"\n",
    "\n",
    "print(stu1,stu2)\n",
    "print(type(stu1))\n",
    "print(stu1.name)\n"
   ]
  },
  {
   "cell_type": "markdown",
   "metadata": {},
   "source": [
    "## 成员变量和成员方法\n"
   ]
  },
  {
   "cell_type": "code",
   "execution_count": 5,
   "metadata": {},
   "outputs": [
    {
     "name": "stdout",
     "output_type": "stream",
     "text": [
      "i am jay\n",
      "i am jay,masdmasd\n"
     ]
    }
   ],
   "source": [
    "class Bad:\n",
    "    name = None\n",
    "    #类中的函数就是方法\n",
    "    #写方法必须加一个self，表示是自己\n",
    "    def sayhi(self):\n",
    "        print(f\"i am {self.name}\")\n",
    "    \n",
    "    def sayhi2(self,msg):\n",
    "        print(f\"i am {self.name},{msg}\")\n",
    "    \n",
    "b1 = Bad()\n",
    "b1.name = \"jay\"\n",
    "b1.sayhi()\n",
    "b1.sayhi2(\"masdmasd\")"
   ]
  },
  {
   "cell_type": "markdown",
   "metadata": {},
   "source": [
    "## 构造方法"
   ]
  },
  {
   "cell_type": "code",
   "execution_count": 3,
   "metadata": {},
   "outputs": [
    {
     "name": "stdout",
     "output_type": "stream",
     "text": [
      "输入成功\n",
      "11 ELE 123123\n"
     ]
    }
   ],
   "source": [
    "#__init__\n",
    "#构建类对象会自动执行，参数会传送\n",
    "class Stu:\n",
    "    #这里的定义可以省略\n",
    "    # name = None\n",
    "    # age = None\n",
    "    # tel = None\n",
    "    #这里的—> 是指定函数的返回值\n",
    "    def __init__(self,name,age,tel) -> None:\n",
    "        #这里可以既定义又传参\n",
    "        self.name = name\n",
    "        self.age = age\n",
    "        self.tel = tel\n",
    "        print(\"输入成功\")\n",
    "\n",
    "Stu1 = Stu(\"ELE\",\"11\",123123)\n",
    "print(Stu1.age,Stu1.name,Stu1.tel)"
   ]
  },
  {
   "cell_type": "markdown",
   "metadata": {},
   "source": [
    "# 练习"
   ]
  },
  {
   "cell_type": "code",
   "execution_count": 7,
   "metadata": {},
   "outputs": [
    {
     "name": "stdout",
     "output_type": "stream",
     "text": [
      "当前录入第0位学生信息，还需录入9位\n",
      "请输入学生姓名\n",
      "请输入学生年龄\n",
      "请输入学生地址\n",
      "学生0录入完毕，信息为('SJW', '11', 'TYC')\n",
      "当前录入第1位学生信息，还需录入8位\n",
      "请输入学生姓名\n",
      "请输入学生年龄\n"
     ]
    }
   ],
   "source": [
    "class infor:\n",
    "    def __init__(self,name,age,add) -> None:\n",
    "        self.name = name\n",
    "        self.age = age\n",
    "        self.add = add\n",
    "\n",
    "l = infor(None,None,None)\n",
    "for i in range(10):\n",
    "    print(f\"当前录入第{i}位学生信息，还需录入{10-i-1}位\")\n",
    "    print(\"请输入学生姓名\")\n",
    "    l.name = input()\n",
    "    print(\"请输入学生年龄\")\n",
    "    l.age = input()\n",
    "    print(\"请输入学生地址\")\n",
    "    l.add = input()\n",
    "    print(f\"学生{i}录入完毕，信息为{l.name,l.age,l.add}\")"
   ]
  },
  {
   "cell_type": "markdown",
   "metadata": {},
   "source": [
    "# 魔术方法"
   ]
  },
  {
   "cell_type": "markdown",
   "metadata": {},
   "source": [
    "## 字符串方法 \n",
    "\\__str__"
   ]
  },
  {
   "cell_type": "code",
   "execution_count": 2,
   "metadata": {},
   "outputs": [
    {
     "name": "stdout",
     "output_type": "stream",
     "text": [
      "输入成功\n",
      "name = ELE\n"
     ]
    }
   ],
   "source": [
    "class Stu:\n",
    "    #这里的定义可以省略\n",
    "    # name = None\n",
    "    # age = None\n",
    "    # tel = None\n",
    "    #这里的—> 是指定函数的返回值\n",
    "    def __init__(self,name,age,tel) -> None:\n",
    "        #这里可以既定义又传参\n",
    "        self.name = name\n",
    "        self.age = age\n",
    "        self.tel = tel\n",
    "        print(\"输入成功\")\n",
    "    \n",
    "    #魔术方法 str 表示返回的怎么说\n",
    "    def __str__(self) -> str:\n",
    "        return f\"name = {self.name}\"\n",
    "    \n",
    "Stu1 = Stu(\"ELE\",\"11\",123123)\n",
    "print(Stu1)"
   ]
  },
  {
   "cell_type": "markdown",
   "metadata": {},
   "source": [
    "## 比较方法 \n",
    "\\__lt__\\\n",
    "\\__le__ 小于等于\\\n",
    "\\__eq__ 等于"
   ]
  },
  {
   "cell_type": "code",
   "execution_count": 3,
   "metadata": {},
   "outputs": [
    {
     "name": "stdout",
     "output_type": "stream",
     "text": [
      "输入成功\n",
      "输入成功\n",
      "True\n"
     ]
    }
   ],
   "source": [
    "class Stu:\n",
    "    #这里的定义可以省略\n",
    "    # name = None\n",
    "    # age = None\n",
    "    # tel = None\n",
    "    #这里的—> 是指定函数的返回值\n",
    "    def __init__(self,name,age,tel) -> None:\n",
    "        #这里可以既定义又传参\n",
    "        self.name = name\n",
    "        self.age = age\n",
    "        self.tel = tel\n",
    "        print(\"输入成功\")\n",
    "    \n",
    "    #魔术方法 str 表示返回的怎么说\n",
    "    def __str__(self) -> str:\n",
    "        return f\"name = {self.name}\"\n",
    "    \n",
    "    #other是别的的意思\n",
    "    def __lt__(self,other):\n",
    "        return self.age < other.age\n",
    "    \n",
    "Stu1 = Stu(\"ELE\",\"11\",123123)\n",
    "Stu2 = Stu(\"ELE2\",\"12\",123123)\n",
    "print(Stu1<Stu2)"
   ]
  }
 ],
 "metadata": {
  "kernelspec": {
   "display_name": "base",
   "language": "python",
   "name": "python3"
  },
  "language_info": {
   "codemirror_mode": {
    "name": "ipython",
    "version": 3
   },
   "file_extension": ".py",
   "mimetype": "text/x-python",
   "name": "python",
   "nbconvert_exporter": "python",
   "pygments_lexer": "ipython3",
   "version": "3.9.13"
  },
  "orig_nbformat": 4
 },
 "nbformat": 4,
 "nbformat_minor": 2
}
