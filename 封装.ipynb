{
 "cells": [
  {
   "cell_type": "markdown",
   "metadata": {},
   "source": [
    "# 封装"
   ]
  },
  {
   "cell_type": "markdown",
   "metadata": {},
   "source": [
    "## 私有的成员变量和成员方法\n",
    "以两个下划线开头__"
   ]
  },
  {
   "cell_type": "code",
   "execution_count": 3,
   "metadata": {},
   "outputs": [
    {
     "name": "stdout",
     "output_type": "stream",
     "text": [
      "单核运行\n"
     ]
    }
   ],
   "source": [
    "#私有成员变量和方法不能被对象直接调用\n",
    "#但是可以被类内调用\n",
    "class Phone:\n",
    "    __current_v = 3 #私有\n",
    "    def __keep_single_core(self):\n",
    "        print(\"单核运行\")\n",
    "    \n",
    "    def call_by_5G(self):\n",
    "        if self.__current_v >= 5:\n",
    "            print(\"5g open\")\n",
    "        else:\n",
    "            self.__keep_single_core()\n",
    "            \n",
    "\n",
    "p1 =Phone()\n",
    "# p1.__current_v\n",
    "p1.call_by_5G()"
   ]
  },
  {
   "cell_type": "markdown",
   "metadata": {},
   "source": [
    "# 练习"
   ]
  },
  {
   "cell_type": "code",
   "execution_count": 6,
   "metadata": {},
   "outputs": [
    {
     "name": "stdout",
     "output_type": "stream",
     "text": [
      "5g on\n",
      "calling...\n"
     ]
    }
   ],
   "source": [
    "class Phone:\n",
    "    __is_5g_enable = bool(True)\n",
    "    def __check_5g(self):\n",
    "        if self.__is_5g_enable == True:\n",
    "            print(\"5g on\")\n",
    "        elif self.__is_5g_enable == False:\n",
    "            print(\"5g off\")\n",
    "    def call_by_5g(self):\n",
    "        self.__check_5g()\n",
    "        print(\"calling...\")\n",
    "\n",
    "myphone = Phone()\n",
    "myphone.call_by_5g()"
   ]
  },
  {
   "cell_type": "markdown",
   "metadata": {},
   "source": [
    "## 继承"
   ]
  },
  {
   "cell_type": "code",
   "execution_count": 8,
   "metadata": {},
   "outputs": [
    {
     "name": "stdout",
     "output_type": "stream",
     "text": [
      "None\n"
     ]
    },
    {
     "data": {
      "text/plain": [
       "123123"
      ]
     },
     "execution_count": 8,
     "metadata": {},
     "output_type": "execute_result"
    }
   ],
   "source": [
    "class Phone:\n",
    "    Imel = None #序列号\n",
    "    producer = \"HM\" #厂商\n",
    "    \n",
    "    def call_by_4G(self):\n",
    "        print(\"4g on\")\n",
    "\n",
    "class Card:\n",
    "    Card_id = 123123\n",
    "    \n",
    "#单继承\n",
    "class Phone2022(Phone):\n",
    "    face_id = 123\n",
    "    def call_by_5G(self):\n",
    "        print(\"5g on\")\n",
    "\n",
    "p2 = Phone2022()\n",
    "print(p2.Imel)\n",
    "\n",
    "#多继承\n",
    "class Phonenew(Phone2022,Card)\n",
    "    pass\n",
    "#多继承同名属性，谁在左边谁优先，这个Phone2022优先\n",
    "pn = Phonenew()\n",
    "pn.Card_id\n"
   ]
  }
 ],
 "metadata": {
  "kernelspec": {
   "display_name": "Python 3.9.12 64-bit",
   "language": "python",
   "name": "python3"
  },
  "language_info": {
   "codemirror_mode": {
    "name": "ipython",
    "version": 3
   },
   "file_extension": ".py",
   "mimetype": "text/x-python",
   "name": "python",
   "nbconvert_exporter": "python",
   "pygments_lexer": "ipython3",
   "version": "3.9.12"
  },
  "orig_nbformat": 4,
  "vscode": {
   "interpreter": {
    "hash": "421979bcffd45540d384b167ddb364f8d64d8b25467709921b383bf6ab6961ed"
   }
  }
 },
 "nbformat": 4,
 "nbformat_minor": 2
}
