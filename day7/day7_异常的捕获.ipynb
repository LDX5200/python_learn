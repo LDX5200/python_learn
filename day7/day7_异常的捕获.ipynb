{
 "cells": [
  {
   "cell_type": "markdown",
   "metadata": {},
   "source": [
    "# 捕获异常 \n",
    "真厉害呀python\\\n",
    "try except"
   ]
  },
  {
   "cell_type": "code",
   "execution_count": 5,
   "metadata": {},
   "outputs": [
    {
     "name": "stdout",
     "output_type": "stream",
     "text": [
      "出现异常\n"
     ]
    }
   ],
   "source": [
    "#例子\n",
    "try:\n",
    "    f = open(\"no.txt\",\"r\")\n",
    "    print(\"没有异常\")\n",
    "#如果出现异常就用except\n",
    "except:\n",
    "    print(\"出现异常\")\n",
    "    f = open(\"no.txt\",\"w\")\n",
    "f.close()"
   ]
  },
  {
   "cell_type": "code",
   "execution_count": 2,
   "metadata": {},
   "outputs": [
    {
     "ename": "ZeroDivisionError",
     "evalue": "division by zero",
     "output_type": "error",
     "traceback": [
      "\u001b[1;31m---------------------------------------------------------------------------\u001b[0m",
      "\u001b[1;31mZeroDivisionError\u001b[0m                         Traceback (most recent call last)",
      "\u001b[1;32m~\\AppData\\Local\\Temp\\ipykernel_34396\\2100627574.py\u001b[0m in \u001b[0;36m<module>\u001b[1;34m\u001b[0m\n\u001b[0;32m      1\u001b[0m \u001b[1;31m#捕获指定异常\u001b[0m\u001b[1;33m\u001b[0m\u001b[1;33m\u001b[0m\u001b[0m\n\u001b[0;32m      2\u001b[0m \u001b[1;32mtry\u001b[0m\u001b[1;33m:\u001b[0m\u001b[1;33m\u001b[0m\u001b[1;33m\u001b[0m\u001b[0m\n\u001b[1;32m----> 3\u001b[1;33m     \u001b[0mprint\u001b[0m\u001b[1;33m(\u001b[0m\u001b[1;36m1\u001b[0m\u001b[1;33m/\u001b[0m\u001b[1;36m0\u001b[0m\u001b[1;33m)\u001b[0m\u001b[1;33m\u001b[0m\u001b[1;33m\u001b[0m\u001b[0m\n\u001b[0m\u001b[0;32m      4\u001b[0m \u001b[1;32mexcept\u001b[0m \u001b[0mNameError\u001b[0m \u001b[1;32mas\u001b[0m \u001b[0mn\u001b[0m\u001b[1;33m:\u001b[0m\u001b[1;33m\u001b[0m\u001b[1;33m\u001b[0m\u001b[0m\n\u001b[0;32m      5\u001b[0m     \u001b[0mprint\u001b[0m\u001b[1;33m(\u001b[0m\u001b[1;34m\"出现Nameerror\"\u001b[0m\u001b[1;33m)\u001b[0m\u001b[1;33m\u001b[0m\u001b[1;33m\u001b[0m\u001b[0m\n",
      "\u001b[1;31mZeroDivisionError\u001b[0m: division by zero"
     ]
    }
   ],
   "source": [
    "#捕获指定异常\n",
    "try:\n",
    "    print(name)\n",
    "#只捕获指定ERROR\n",
    "except NameError as n:\n",
    "    print(\"出现Nameerror\")\n",
    "\n"
   ]
  },
  {
   "cell_type": "code",
   "execution_count": 3,
   "metadata": {},
   "outputs": [
    {
     "name": "stdout",
     "output_type": "stream",
     "text": [
      "出现Nameerror\n"
     ]
    }
   ],
   "source": [
    "#捕多个异常\n",
    "try:\n",
    "    #print(name)\n",
    "    print(1/0)\n",
    "#只捕获指定ERROR\n",
    "except (NameError,ZeroDivisionError) as n:\n",
    "    print(\"出现Nameerror\")\n"
   ]
  },
  {
   "cell_type": "code",
   "execution_count": 4,
   "metadata": {},
   "outputs": [
    {
     "name": "stdout",
     "output_type": "stream",
     "text": [
      "出现ERROR\n"
     ]
    }
   ],
   "source": [
    "#捕多个异常\n",
    "try:\n",
    "    #print(name)\n",
    "    print(1/0)\n",
    "#捕获所有ERROR\n",
    "except Exception as n:\n",
    "    print(\"出现ERROR\")"
   ]
  },
  {
   "cell_type": "code",
   "execution_count": 5,
   "metadata": {},
   "outputs": [
    {
     "name": "stdout",
     "output_type": "stream",
     "text": [
      "1\n",
      "正常\n"
     ]
    }
   ],
   "source": [
    "#ELSE 没有异常\n",
    "name = 1\n",
    "try:\n",
    "    print(name)\n",
    "    #print(1/0)\n",
    "except Exception as n:\n",
    "    print(\"出现ERROR\")\n",
    "else:\n",
    "    print(\"正常\")"
   ]
  },
  {
   "cell_type": "code",
   "execution_count": 6,
   "metadata": {},
   "outputs": [
    {
     "name": "stdout",
     "output_type": "stream",
     "text": [
      "1\n",
      "正常\n",
      "执行\n"
     ]
    }
   ],
   "source": [
    "#finally 不管有没有异常都要执行\n",
    "name = 1\n",
    "try:\n",
    "    print(name)\n",
    "    #print(1/0)\n",
    "except Exception as n:\n",
    "    print(\"出现ERROR\")\n",
    "else:\n",
    "    print(\"正常\")\n",
    "finally: #finally一般执行比如关文件的操作\n",
    "    print(\"执行\")\n"
   ]
  }
 ],
 "metadata": {
  "kernelspec": {
   "display_name": "base",
   "language": "python",
   "name": "python3"
  },
  "language_info": {
   "codemirror_mode": {
    "name": "ipython",
    "version": 3
   },
   "file_extension": ".py",
   "mimetype": "text/x-python",
   "name": "python",
   "nbconvert_exporter": "python",
   "pygments_lexer": "ipython3",
   "version": "3.9.13"
  },
  "orig_nbformat": 4
 },
 "nbformat": 4,
 "nbformat_minor": 2
}
