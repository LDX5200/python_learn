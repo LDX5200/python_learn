{
 "cells": [
  {
   "cell_type": "markdown",
   "metadata": {},
   "source": [
    "# 导入模块"
   ]
  },
  {
   "cell_type": "code",
   "execution_count": 1,
   "metadata": {},
   "outputs": [
    {
     "name": "stdout",
     "output_type": "stream",
     "text": [
      "1\n",
      "2\n"
     ]
    }
   ],
   "source": [
    "import time\n",
    "#sleep() 括号内是秒\n",
    "print(\"1\")\n",
    "#通过 . 可以使用模块内的文件 \n",
    "time.sleep(5)\n",
    "print(\"2\")\n"
   ]
  },
  {
   "cell_type": "code",
   "execution_count": null,
   "metadata": {},
   "outputs": [],
   "source": [
    "#from导入\n",
    "from time import sleep\n",
    "#导入具体的功能\n",
    "time.sleep()"
   ]
  },
  {
   "cell_type": "code",
   "execution_count": 2,
   "metadata": {},
   "outputs": [
    {
     "name": "stdout",
     "output_type": "stream",
     "text": [
      "1\n",
      "2\n"
     ]
    }
   ],
   "source": [
    "#全部 from\n",
    "from time import *\n",
    "#直接写就行\n",
    "print(1)\n",
    "sleep(2)\n",
    "print(2)\n",
    "\n",
    "#别名\n",
    "import time as t\n",
    "t.sleep()\n",
    "\n",
    "from time import sleep as sl\n",
    "sl()"
   ]
  }
 ],
 "metadata": {
  "kernelspec": {
   "display_name": "base",
   "language": "python",
   "name": "python3"
  },
  "language_info": {
   "codemirror_mode": {
    "name": "ipython",
    "version": 3
   },
   "file_extension": ".py",
   "mimetype": "text/x-python",
   "name": "python",
   "nbconvert_exporter": "python",
   "pygments_lexer": "ipython3",
   "version": "3.9.13"
  },
  "orig_nbformat": 4
 },
 "nbformat": 4,
 "nbformat_minor": 2
}
