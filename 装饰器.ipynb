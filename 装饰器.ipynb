{
 "cells": [
  {
   "cell_type": "markdown",
   "metadata": {},
   "source": [
    "# 装饰器"
   ]
  },
  {
   "cell_type": "code",
   "execution_count": 9,
   "metadata": {},
   "outputs": [
    {
     "name": "stdout",
     "output_type": "stream",
     "text": [
      "i am going to sleep\n",
      "sleeping ...\n",
      "i am getting up\n"
     ]
    }
   ],
   "source": [
    "#方案1 用闭包\n",
    "def sleep():\n",
    "    import random\n",
    "    import time\n",
    "    print(\"sleeping ...\")\n",
    "    time.sleep(random.randint(1,5))\n",
    "    \n",
    "def outer(func):\n",
    "    def inner():\n",
    "        print(\"i am going to sleep\")\n",
    "        func()#这里的fuc()加()\n",
    "        print(\"i am getting up\")\n",
    "    return inner\n",
    "\n",
    "fn = outer(sleep)\n",
    "fn() #这里的fn()\n",
    "\n"
   ]
  },
  {
   "cell_type": "code",
   "execution_count": 10,
   "metadata": {},
   "outputs": [
    {
     "name": "stdout",
     "output_type": "stream",
     "text": [
      "i am going to sleep\n",
      "sleeping ...\n",
      "i am getting up\n"
     ]
    }
   ],
   "source": [
    "#方案2 语法糖\n",
    "def outer(func):\n",
    "    def inner():\n",
    "        print(\"i am going to sleep\")\n",
    "        func()#这里的fuc()加()\n",
    "        print(\"i am getting up\")\n",
    "    return inner\n",
    "\n",
    "\n",
    "#把sleep作为参数传入outer\n",
    "@outer\n",
    "def sleep():\n",
    "    import random\n",
    "    import time\n",
    "    print(\"sleeping ...\")\n",
    "    time.sleep(random.randint(1,5))\n",
    "\n",
    "sleep()\n",
    "    "
   ]
  }
 ],
 "metadata": {
  "kernelspec": {
   "display_name": "Python 3.9.12 64-bit",
   "language": "python",
   "name": "python3"
  },
  "language_info": {
   "codemirror_mode": {
    "name": "ipython",
    "version": 3
   },
   "file_extension": ".py",
   "mimetype": "text/x-python",
   "name": "python",
   "nbconvert_exporter": "python",
   "pygments_lexer": "ipython3",
   "version": "3.9.12"
  },
  "orig_nbformat": 4,
  "vscode": {
   "interpreter": {
    "hash": "421979bcffd45540d384b167ddb364f8d64d8b25467709921b383bf6ab6961ed"
   }
  }
 },
 "nbformat": 4,
 "nbformat_minor": 2
}
