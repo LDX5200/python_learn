{
 "cells": [
  {
   "cell_type": "markdown",
   "metadata": {},
   "source": [
    "# pyecharts介绍\n",
    "大数据开发\\\n",
    "百度开发"
   ]
  },
  {
   "cell_type": "markdown",
   "metadata": {},
   "source": [
    "## 基础折线图"
   ]
  },
  {
   "cell_type": "code",
   "execution_count": 3,
   "metadata": {},
   "outputs": [
    {
     "data": {
      "text/plain": [
       "'c:\\\\Users\\\\13581\\\\Desktop\\\\learn\\\\pythonlearn\\\\2023\\\\python基础综合案例\\\\render.html'"
      ]
     },
     "execution_count": 3,
     "metadata": {},
     "output_type": "execute_result"
    }
   ],
   "source": [
    "from pyecharts.charts import Line\n",
    "from pyecharts.options import TitleOpts,LegendOpts,ToolboxOpts\n",
    "#得到折线图对象\n",
    "line = Line()\n",
    "#添加x轴数据\n",
    "line.add_xaxis([\"cn\",\"us\",\"uk\"])\n",
    "#添加y轴数据\n",
    "line.add_yaxis(\"GDP\",[30,20,10])\n",
    "#全局配置set_global_opts\n",
    "line.set_global_opts(\n",
    "    #标题\n",
    "    title_opts = TitleOpts(\"GDP展示\",pos_left=\"center\",pos_bottom=\"1%\"),\n",
    "    legend_opts = LegendOpts(is_show = True),\n",
    "    toolbox_opts = ToolboxOpts(is_show = True)\n",
    ")\n",
    "#显示\n",
    "line.render()"
   ]
  },
  {
   "cell_type": "markdown",
   "metadata": {},
   "source": [
    "## 案例 —— 三国疫情"
   ]
  },
  {
   "cell_type": "code",
   "execution_count": 5,
   "metadata": {},
   "outputs": [],
   "source": [
    "#美国数据\n",
    "import json\n",
    "#读取数据\n",
    "f_us = open(r\"C:\\Users\\13581\\Desktop\\learn\\pythonlearn\\2023\\python基础综合案例\\可视化案例数据\\折线图数据\\美国.txt\",\"r\",encoding=\"UTF-8\")\n",
    "us_data = f_us.read()\n",
    "#去除不合适的数据\n",
    "us_data = us_data.replace(\"jsonp_1629344292311_69436(\",\"\")\n",
    "#切片，去除最后两个\n",
    "us_data = us_data[:-2]\n",
    "#得到json数据\n",
    "us_dict = json.loads(us_data)\n",
    "# print(type(us_dict))\n",
    "# print(us_dict)\n",
    "us_trend_data = us_dict['data'][0]['trend']\n",
    "#获取x轴的数据——日期\n",
    "us_x_data = us_trend_data['updateDate'][:314]\n",
    "# print(x_data)\n",
    "#获取y轴——确诊人数\n",
    "us_y_data = us_trend_data['list'][0]['data'][:314]\n",
    "# print(y_data)\n",
    "\n"
   ]
  },
  {
   "cell_type": "code",
   "execution_count": 6,
   "metadata": {},
   "outputs": [],
   "source": [
    "#日本\n",
    "import json\n",
    "#读取数据\n",
    "f_jp = open(r\"C:\\Users\\13581\\Desktop\\learn\\pythonlearn\\2023\\python基础综合案例\\可视化案例数据\\折线图数据\\日本.txt\",\"r\",encoding=\"UTF-8\")\n",
    "jp_data = f_jp.read()\n",
    "#去除不合适的数据\n",
    "jp_data = jp_data.replace(\"jsonp_1629350871167_29498(\",\"\")\n",
    "#切片，去除最后两个\n",
    "jp_data = jp_data[:-2]\n",
    "#得到json数据\n",
    "jp_dict = json.loads(jp_data)\n",
    "# print(type(jp_dict))\n",
    "# print(jp_dict)\n",
    "jp_trend_data = jp_dict['data'][0]['trend']\n",
    "#获取x轴的数据——日期\n",
    "jp_x_data = jp_trend_data['updateDate'][:314]\n",
    "# print(x_data)\n",
    "#获取y轴——确诊人数\n",
    "jp_y_data = jp_trend_data['list'][0]['data'][:314]\n",
    "# print(y_data)"
   ]
  },
  {
   "cell_type": "code",
   "execution_count": 7,
   "metadata": {},
   "outputs": [],
   "source": [
    "#印度\n",
    "import json\n",
    "#读取数据\n",
    "f_in = open(r\"C:\\Users\\13581\\Desktop\\learn\\pythonlearn\\2023\\python基础综合案例\\可视化案例数据\\折线图数据\\印度.txt\",\"r\",encoding=\"UTF-8\")\n",
    "in_data = f_in.read()\n",
    "#去除不合适的数据\n",
    "in_data = in_data.replace(\"jsonp_1629350745930_63180(\",\"\")\n",
    "#切片，去除最后两个\n",
    "in_data = in_data[:-2]\n",
    "#得到json数据\n",
    "in_dict = json.loads(in_data)\n",
    "# print(type(in_dict))\n",
    "# print(in_dict)\n",
    "in_trend_data = in_dict['data'][0]['trend']\n",
    "#获取x轴的数据——日期\n",
    "in_x_data = in_trend_data['updateDate'][:314]\n",
    "# print(x_data)\n",
    "#获取y轴——确诊人数\n",
    "in_y_data = in_trend_data['list'][0]['data'][:314]\n",
    "# print(y_data)"
   ]
  },
  {
   "cell_type": "code",
   "execution_count": 14,
   "metadata": {},
   "outputs": [],
   "source": [
    "#构建图表\n",
    "from pyecharts.charts import Line\n",
    "from pyecharts.options import TitleOpts,LabelOpts\n",
    "line = Line()\n",
    "line.add_xaxis(us_x_data)\n",
    "line.add_yaxis(\"美国确诊人数\",us_y_data,color='green',label_opts=LabelOpts(is_show=False))\n",
    "line.add_yaxis(\"日本确诊人数\",jp_y_data,color='blue',label_opts=LabelOpts(is_show=False))\n",
    "line.add_yaxis(\"印度确诊人数\",in_y_data,color='red',label_opts=LabelOpts(is_show=False))\n",
    "#设置一些全局选项\n",
    "line.set_global_opts(\n",
    "    #标题\n",
    "    title_opts = TitleOpts(title = \"2020美日印三国疫情增长图\",pos_left = 'center',pos_bottom = \"1%\")\n",
    "\n",
    ")\n",
    "\n",
    "line.render()\n",
    "f_jp.close()\n",
    "f_us.close()\n",
    "f_in.close()"
   ]
  },
  {
   "cell_type": "code",
   "execution_count": null,
   "metadata": {},
   "outputs": [],
   "source": []
  }
 ],
 "metadata": {
  "kernelspec": {
   "display_name": "base",
   "language": "python",
   "name": "python3"
  },
  "language_info": {
   "codemirror_mode": {
    "name": "ipython",
    "version": 3
   },
   "file_extension": ".py",
   "mimetype": "text/x-python",
   "name": "python",
   "nbconvert_exporter": "python",
   "pygments_lexer": "ipython3",
   "version": "3.9.13"
  },
  "orig_nbformat": 4
 },
 "nbformat": 4,
 "nbformat_minor": 2
}
