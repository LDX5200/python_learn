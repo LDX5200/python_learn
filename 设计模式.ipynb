{
 "cells": [
  {
   "cell_type": "markdown",
   "metadata": {},
   "source": [
    "# 单例模式"
   ]
  },
  {
   "cell_type": "code",
   "execution_count": 5,
   "metadata": {},
   "outputs": [
    {
     "name": "stdout",
     "output_type": "stream",
     "text": [
      "<__main__.StrTools object at 0x0000021855670EB0>\n",
      "<__main__.StrTools object at 0x0000021855670760>\n",
      "2303535287984\n",
      "2303535286112\n",
      "<str_tool_py.StrTool object at 0x0000021854B56A90>\n",
      "<str_tool_py.StrTool object at 0x0000021854B56A90>\n",
      "2303523646096 2303523646096\n"
     ]
    }
   ],
   "source": [
    "# 某些类无论多少个对象 只提供一个实例 节省空间\n",
    "\n",
    "class StrTools():\n",
    "    pass\n",
    "\n",
    "s1 = StrTools()\n",
    "s2 = StrTools()\n",
    "#打印地址\n",
    "print(s1)\n",
    "print(s2)\n",
    "#但是我们希望无论多少个s 都是同一个对象 （同一个地址）\n",
    "\n",
    "print(id(s1))\n",
    "print(id(s2))\n",
    "\n",
    "#我们在别的地方写一个 把他import进来即可\n",
    "from str_tool_py import str_tool\n",
    "\n",
    "s3 =str_tool\n",
    "s4 =str_tool\n",
    "print(s3)\n",
    "print(s4)\n",
    "print(id(s3),id(s4))"
   ]
  },
  {
   "cell_type": "markdown",
   "metadata": {},
   "source": [
    "# 工厂模式\n",
    "大量创建类的实例"
   ]
  },
  {
   "cell_type": "code",
   "execution_count": 7,
   "metadata": {},
   "outputs": [
    {
     "name": "stdout",
     "output_type": "stream",
     "text": [
      "<__main__.Worker object at 0x0000021854E6E190>\n"
     ]
    }
   ],
   "source": [
    "class Person:\n",
    "    pass\n",
    "\n",
    "class Worker(Person):\n",
    "    pass\n",
    "\n",
    "class Student(Person):\n",
    "    pass\n",
    "\n",
    "class Teacher(Person):\n",
    "    pass\n",
    "\n",
    "\n",
    "#如果出现问题 只需要改类即可 不用改大量代码\n",
    "class Factory:\n",
    "    def get_person(self,p_type):\n",
    "        if p_type == 'w':\n",
    "            return Worker()\n",
    "        elif p_type == 's':\n",
    "            return Student()\n",
    "        elif p_type == 't':\n",
    "            return Teacher()\n",
    "        \n",
    "pf = Factory()\n",
    "worker = pf.get_person('w')\n",
    "stu = pf.get_person('s')\n",
    "tea = pf.get_person('t')\n",
    "\n",
    "print(worker)\n",
    "\n"
   ]
  },
  {
   "cell_type": "code",
   "execution_count": null,
   "metadata": {},
   "outputs": [],
   "source": []
  }
 ],
 "metadata": {
  "kernelspec": {
   "display_name": "Python 3.9.12 64-bit",
   "language": "python",
   "name": "python3"
  },
  "language_info": {
   "codemirror_mode": {
    "name": "ipython",
    "version": 3
   },
   "file_extension": ".py",
   "mimetype": "text/x-python",
   "name": "python",
   "nbconvert_exporter": "python",
   "pygments_lexer": "ipython3",
   "version": "3.9.12"
  },
  "orig_nbformat": 4,
  "vscode": {
   "interpreter": {
    "hash": "421979bcffd45540d384b167ddb364f8d64d8b25467709921b383bf6ab6961ed"
   }
  }
 },
 "nbformat": 4,
 "nbformat_minor": 2
}
