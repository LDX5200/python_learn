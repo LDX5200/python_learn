{
 "cells": [
  {
   "cell_type": "markdown",
   "metadata": {},
   "source": [
    "# 闭包~"
   ]
  },
  {
   "cell_type": "code",
   "execution_count": 2,
   "metadata": {},
   "outputs": [
    {
     "name": "stdout",
     "output_type": "stream",
     "text": [
      "123hello\n",
      "456bye\n"
     ]
    }
   ],
   "source": [
    "def outer(logo): #这个logo是外部变量 但是不是全局变量\n",
    "    \n",
    "    def inner(msg):\n",
    "        print(f\"{logo}{msg}\")\n",
    "    \n",
    "    return inner\n",
    "\n",
    "#fn1 是一个函数\n",
    "fn1 = outer(\"123\")\n",
    "fn1(\"hello\")\n",
    "\n",
    "fn2 = outer(\"456\")\n",
    "fn2(\"bye\")\n"
   ]
  },
  {
   "cell_type": "code",
   "execution_count": 2,
   "metadata": {},
   "outputs": [
    {
     "name": "stdout",
     "output_type": "stream",
     "text": [
      "20\n"
     ]
    }
   ],
   "source": [
    "def out2(num1):\n",
    "    def in2(num2):\n",
    "        #若要在内部使用 可以加一个nonlocal\n",
    "        nonlocal num1\n",
    "        num1 += num2\n",
    "        print(num1)\n",
    "    #注意这个return是在外部函数的return\n",
    "    return in2\n",
    "\n",
    "fn = out2(10)\n",
    "fn(10)\n"
   ]
  },
  {
   "cell_type": "markdown",
   "metadata": {},
   "source": [
    "## 小案例\n"
   ]
  },
  {
   "cell_type": "code",
   "execution_count": 3,
   "metadata": {},
   "outputs": [
    {
     "name": "stdout",
     "output_type": "stream",
     "text": [
      "deposit30,total330\n",
      "withdraw50,total280\n"
     ]
    }
   ],
   "source": [
    "def atm_out(acount_amount):\n",
    "    def atm(num,deposit = True):\n",
    "        nonlocal acount_amount\n",
    "        if deposit:\n",
    "            acount_amount += num\n",
    "            print(f\"deposit{num},total{acount_amount}\")\n",
    "        else:\n",
    "            acount_amount -= num\n",
    "            print(f\"withdraw{num},total{acount_amount}\")\n",
    "    return atm\n",
    "\n",
    "atm = atm_out(300)\n",
    "atm(30)\n",
    "atm(50,False)"
   ]
  }
 ],
 "metadata": {
  "kernelspec": {
   "display_name": "Python 3.9.12 ('base')",
   "language": "python",
   "name": "python3"
  },
  "language_info": {
   "codemirror_mode": {
    "name": "ipython",
    "version": 3
   },
   "file_extension": ".py",
   "mimetype": "text/x-python",
   "name": "python",
   "nbconvert_exporter": "python",
   "pygments_lexer": "ipython3",
   "version": "3.9.12"
  },
  "orig_nbformat": 4,
  "vscode": {
   "interpreter": {
    "hash": "b0e53523e0924413c28b9a2923d8adcf153adbfd5ac500c47cf42b69b5eb267f"
   }
  }
 },
 "nbformat": 4,
 "nbformat_minor": 2
}
