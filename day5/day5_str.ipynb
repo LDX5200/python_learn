{
 "cells": [
  {
   "cell_type": "markdown",
   "metadata": {},
   "source": [
    "# 字符串\n",
    "有下标\\\n",
    "不可以修改单个元素\n"
   ]
  },
  {
   "cell_type": "code",
   "execution_count": 1,
   "metadata": {},
   "outputs": [
    {
     "name": "stdout",
     "output_type": "stream",
     "text": [
      "1\n"
     ]
    }
   ],
   "source": [
    "#字符串也有索引\n",
    "str = '12345'\n",
    "print(str[0])"
   ]
  },
  {
   "cell_type": "markdown",
   "metadata": {},
   "source": [
    "## 字符串方法"
   ]
  },
  {
   "cell_type": "code",
   "execution_count": 4,
   "metadata": {},
   "outputs": [
    {
     "name": "stdout",
     "output_type": "stream",
     "text": [
      "0\n"
     ]
    }
   ],
   "source": [
    "#index\n",
    "str = 'str is str'\n",
    "print(str.index(str))"
   ]
  },
  {
   "cell_type": "code",
   "execution_count": 5,
   "metadata": {},
   "outputs": [
    {
     "name": "stdout",
     "output_type": "stream",
     "text": [
      "str is str\n",
      "sss is sss\n"
     ]
    }
   ],
   "source": [
    "#replace\n",
    "#将字符串里的全部内容进行替换\n",
    "str ='str is str'\n",
    "newstr = str.replace(\"str\",\"sss\")\n",
    "print(str)\n",
    "print(newstr)"
   ]
  },
  {
   "cell_type": "code",
   "execution_count": 6,
   "metadata": {},
   "outputs": [
    {
     "name": "stdout",
     "output_type": "stream",
     "text": [
      "['jkl', 'fds', 'gfd', 'hgf']\n",
      "<class 'list'>\n"
     ]
    }
   ],
   "source": [
    "#split 分割 把str分割成list\n",
    "my_str = \"jkl,fds,gfd,hgf\"\n",
    "mylist = my_str.split(\",\")\n",
    "print(mylist)\n",
    "print(type(mylist))"
   ]
  },
  {
   "cell_type": "code",
   "execution_count": 8,
   "metadata": {},
   "outputs": [
    {
     "name": "stdout",
     "output_type": "stream",
     "text": [
      "jkl,fds,gfd,hgf\n",
      "jkl,fds,gfd,hgf\n"
     ]
    }
   ],
   "source": [
    "#strip 规整 \n",
    "my_str = \"   jkl,fds,gfd,hgf   \"\n",
    "newstr = my_str.strip()#不加参数去除空格\n",
    "print(newstr)\n",
    "\n",
    "my_str = \"123jkl,fds,gfd,hgf2312\"\n",
    "newstr = my_str.strip(\"123\")#加参数去除\n",
    "print(newstr)"
   ]
  },
  {
   "cell_type": "code",
   "execution_count": 11,
   "metadata": {},
   "outputs": [
    {
     "name": "stdout",
     "output_type": "stream",
     "text": [
      "3\n",
      "9\n"
     ]
    }
   ],
   "source": [
    "#count\n",
    "str = 'sdasadasd'\n",
    "print(str.count('s'))\n",
    "\n",
    "#len\n",
    "print(len(str))"
   ]
  },
  {
   "cell_type": "markdown",
   "metadata": {},
   "source": [
    "## 字符串也支持遍历"
   ]
  },
  {
   "cell_type": "markdown",
   "metadata": {},
   "source": [
    "## 总结\n",
    "只可以存储字符串\\\n",
    "长度任意\\\n",
    "支持下标\\\n",
    "允许重复\\\n",
    "不可修改\\\n",
    "可以遍历"
   ]
  },
  {
   "cell_type": "code",
   "execution_count": 12,
   "metadata": {},
   "outputs": [
    {
     "name": "stdout",
     "output_type": "stream",
     "text": [
      "it is my it is isis my asd里有2个it字符\n",
      "it|is|my|it|is|isis|my|asd\n",
      "['it', 'is', 'my', 'it', 'is', 'isis', 'my', 'asd']\n"
     ]
    }
   ],
   "source": [
    "#练习\n",
    "my_str = \"it is my it is isis my asd\"\n",
    "print(f\"{my_str}里有{my_str.count('it')}个it字符\")\n",
    "newstr = my_str.replace(\" \",'|')\n",
    "print(newstr)\n",
    "newlist = newstr.split(\"|\")\n",
    "print(newlist)\n"
   ]
  }
 ],
 "metadata": {
  "kernelspec": {
   "display_name": "base",
   "language": "python",
   "name": "python3"
  },
  "language_info": {
   "codemirror_mode": {
    "name": "ipython",
    "version": 3
   },
   "file_extension": ".py",
   "mimetype": "text/x-python",
   "name": "python",
   "nbconvert_exporter": "python",
   "pygments_lexer": "ipython3",
   "version": "3.9.13"
  },
  "orig_nbformat": 4
 },
 "nbformat": 4,
 "nbformat_minor": 2
}
