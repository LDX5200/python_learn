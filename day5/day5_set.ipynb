{
 "cells": [
  {
   "cell_type": "markdown",
   "metadata": {},
   "source": [
    "# set 集合 {} \n",
    "不支持元素的重复且无序\n"
   ]
  },
  {
   "cell_type": "code",
   "execution_count": 26,
   "metadata": {},
   "outputs": [
    {
     "ename": "TypeError",
     "evalue": "'set' object is not callable",
     "output_type": "error",
     "traceback": [
      "\u001b[1;31m---------------------------------------------------------------------------\u001b[0m",
      "\u001b[1;31mTypeError\u001b[0m                                 Traceback (most recent call last)",
      "\u001b[1;32m~\\AppData\\Local\\Temp\\ipykernel_27296\\1312154997.py\u001b[0m in \u001b[0;36m<module>\u001b[1;34m\u001b[0m\n\u001b[0;32m      2\u001b[0m \u001b[0mmyset\u001b[0m \u001b[1;33m=\u001b[0m \u001b[1;33m{\u001b[0m\u001b[1;34m\"123\"\u001b[0m\u001b[1;33m,\u001b[0m\u001b[1;34m\"asd\"\u001b[0m\u001b[1;33m,\u001b[0m\u001b[1;34m\"asdasd\"\u001b[0m\u001b[1;33m}\u001b[0m\u001b[1;33m\u001b[0m\u001b[1;33m\u001b[0m\u001b[0m\n\u001b[0;32m      3\u001b[0m \u001b[1;31m#定义空集合\u001b[0m\u001b[1;33m\u001b[0m\u001b[1;33m\u001b[0m\u001b[0m\n\u001b[1;32m----> 4\u001b[1;33m \u001b[0mmyset1\u001b[0m \u001b[1;33m=\u001b[0m \u001b[0mset\u001b[0m\u001b[1;33m(\u001b[0m\u001b[1;33m)\u001b[0m\u001b[1;33m\u001b[0m\u001b[1;33m\u001b[0m\u001b[0m\n\u001b[0m\u001b[0;32m      5\u001b[0m \u001b[1;31m#list也可以了wc 怪事\u001b[0m\u001b[1;33m\u001b[0m\u001b[1;33m\u001b[0m\u001b[0m\n\u001b[0;32m      6\u001b[0m \u001b[0mlist1\u001b[0m \u001b[1;33m=\u001b[0m \u001b[0mlist\u001b[0m\u001b[1;33m(\u001b[0m\u001b[1;33m)\u001b[0m\u001b[1;33m\u001b[0m\u001b[1;33m\u001b[0m\u001b[0m\n",
      "\u001b[1;31mTypeError\u001b[0m: 'set' object is not callable"
     ]
    }
   ],
   "source": [
    "#定义 无序且不允许重复\n",
    "myset = {\"123\",\"asd\",\"asdasd\"}\n",
    "#定义空集合\n",
    "myset1 = set()\n",
    "#list也可以了wc 怪事\n",
    "list1 = list()\n",
    "#tuple\n",
    "tuple1 = tuple()\n",
    "print(type(myset))\n",
    "print(type(myset1))\n",
    "print(type(list1))\n",
    "print(type(tuple1))\n",
    "\n",
    "print(myset)"
   ]
  },
  {
   "cell_type": "code",
   "execution_count": 12,
   "metadata": {},
   "outputs": [
    {
     "name": "stdout",
     "output_type": "stream",
     "text": [
      "{456, '123', 33212}\n",
      "<class 'set'>\n",
      "{'123', 33212}\n",
      "123\n",
      "<class 'str'>\n",
      "{33212}\n",
      "set()\n"
     ]
    }
   ],
   "source": [
    "#不支持索引 但可以改变元素\n",
    "#add\n",
    "myset = {\"123\",456}\n",
    "myset.add(33212)\n",
    "print(myset)\n",
    "print(type(myset))\n",
    "\n",
    "#remove\n",
    "myset.remove(456)\n",
    "print(myset)\n",
    "\n",
    "#pop 随机pop\n",
    "popthing = myset.pop()\n",
    "print(popthing)\n",
    "print(type(popthing))\n",
    "print(myset)\n",
    "\n",
    "#clear 清空set\n",
    "myset.clear()\n",
    "print(myset)"
   ]
  },
  {
   "cell_type": "code",
   "execution_count": 16,
   "metadata": {},
   "outputs": [
    {
     "name": "stdout",
     "output_type": "stream",
     "text": [
      "{1, 2, 3} {1, 2, 5} {3}\n",
      "{3} {1, 2, 5}\n",
      "{1, 2, 3, 5}\n"
     ]
    }
   ],
   "source": [
    "#差集 集合1有而集合2没有\n",
    "set1 = {1,2,3}\n",
    "set2 = {1,2,5}\n",
    "set3 = set1.difference(set2)\n",
    "print(set1,set2,set3)\n",
    "#消除差集 删除集合1里和集合2相同的元素\n",
    "set1.difference_update(set2)\n",
    "#消除了差集，剩下了\n",
    "print(set1,set2)\n",
    "#union 并集\n",
    "set3 = set1.union(set2)\n",
    "print(set3)\n",
    "\n",
    "\n"
   ]
  },
  {
   "cell_type": "code",
   "execution_count": 22,
   "metadata": {},
   "outputs": [
    {
     "name": "stdout",
     "output_type": "stream",
     "text": [
      "4\n",
      "{1, 2, 3, 4}\n",
      "4\n"
     ]
    }
   ],
   "source": [
    "#统计集合元素数量 len\n",
    "set = {1,2,3,4}\n",
    "print(len(set))\n",
    "#自动去重\n",
    "set = {1,2,3,4,1,2,3,4}\n",
    "print(set)\n",
    "print(len(set))"
   ]
  },
  {
   "cell_type": "markdown",
   "metadata": {},
   "source": [
    "## 遍历\n",
    "不能用while 因为没有索引\\\n",
    "但是可以for"
   ]
  },
  {
   "cell_type": "code",
   "execution_count": 23,
   "metadata": {},
   "outputs": [
    {
     "name": "stdout",
     "output_type": "stream",
     "text": [
      "1\n",
      "2\n",
      "3\n",
      "4\n",
      "5\n",
      "6\n"
     ]
    }
   ],
   "source": [
    "set = {1,2,3,4,5,6}\n",
    "for element in set:\n",
    "    print(element)"
   ]
  },
  {
   "cell_type": "markdown",
   "metadata": {},
   "source": [
    "## 总结\n",
    "可以容纳多个数据\\\n",
    "支持不同类型的数据\\\n",
    "无序 不支持下标索引\\\n",
    "不允许重复\\\n",
    "可以修改\\\n",
    "只支持for循环\n"
   ]
  },
  {
   "cell_type": "code",
   "execution_count": 5,
   "metadata": {},
   "outputs": [
    {
     "name": "stdout",
     "output_type": "stream",
     "text": [
      "set是{1, 2, 3, 33, 4, 6, 455, 7, 45}\n"
     ]
    }
   ],
   "source": [
    "#练习\n",
    "#定义空集合\n",
    "my_set = set()\n",
    "my_list = [1,2,3,1,2,3,1,2,33,2,1,455,7,6,4,45,4]\n",
    "#for循环遍历列表\n",
    "# for i in my_list:\n",
    "#     print(f\"{i}\")\n",
    "#把list传入set\n",
    "for i in my_list:\n",
    "    my_set.add(i)\n",
    "print(f\"set是{my_set}\")\n"
   ]
  }
 ],
 "metadata": {
  "kernelspec": {
   "display_name": "base",
   "language": "python",
   "name": "python3"
  },
  "language_info": {
   "codemirror_mode": {
    "name": "ipython",
    "version": 3
   },
   "file_extension": ".py",
   "mimetype": "text/x-python",
   "name": "python",
   "nbconvert_exporter": "python",
   "pygments_lexer": "ipython3",
   "version": "3.9.13"
  },
  "orig_nbformat": 4
 },
 "nbformat": 4,
 "nbformat_minor": 2
}
