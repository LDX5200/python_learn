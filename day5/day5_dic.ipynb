{
 "cells": [
  {
   "cell_type": "markdown",
   "metadata": {},
   "source": [
    "# 字典 dic {}\n",
    "Key Value\\\n",
    "通过Key 找到Value\n"
   ]
  },
  {
   "cell_type": "code",
   "execution_count": 4,
   "metadata": {},
   "outputs": [
    {
     "name": "stdout",
     "output_type": "stream",
     "text": [
      "{'key1': 1, 'key2': 'asd'}\n",
      "{}\n",
      "<class 'dict'>\n"
     ]
    }
   ],
   "source": [
    "#定义\n",
    "my_dict = {\"key1\":1,\"key2\":\"asd\"}\n",
    "print(my_dict)\n",
    "\n",
    "#定义空字典\n",
    "empt_dict = dict()\n",
    "print(empt_dict)\n",
    "print(type(empt_dict))"
   ]
  },
  {
   "cell_type": "code",
   "execution_count": 5,
   "metadata": {},
   "outputs": [
    {
     "name": "stdout",
     "output_type": "stream",
     "text": [
      "1\n"
     ]
    }
   ],
   "source": [
    "#查找\n",
    "my_dict = {\"key1\":1,\"key2\":\"asd\"}\n",
    "print(my_dict[\"key1\"])"
   ]
  },
  {
   "cell_type": "code",
   "execution_count": 12,
   "metadata": {},
   "outputs": [
    {
     "name": "stdout",
     "output_type": "stream",
     "text": [
      "{'sjw': {'math': 99, 'english': 100, 'chinese': 98}, 'gjw': {'math': 21, 'english': 20, 'chinese': 38}}\n",
      "{'math': 99, 'english': 100, 'chinese': 98}\n",
      "21\n"
     ]
    }
   ],
   "source": [
    "grade = {  'sjw':\n",
    "            {\"math\":99,\n",
    "           \"english\":100,\n",
    "           \"chinese\":98},\n",
    "           'gjw':\n",
    "            {\"math\":21,\n",
    "           \"english\":20,\n",
    "           \"chinese\":38}\n",
    "        }\n",
    "print(grade)\n",
    "print(grade[\"sjw\"])\n",
    "print(grade[\"gjw\"][\"math\"])\n"
   ]
  },
  {
   "cell_type": "markdown",
   "metadata": {},
   "source": [
    "## 字典的常用操作"
   ]
  },
  {
   "cell_type": "code",
   "execution_count": 14,
   "metadata": {},
   "outputs": [
    {
     "name": "stdout",
     "output_type": "stream",
     "text": [
      "{'first': 1, 'second': 2, 'third': 3, 'fourth': 4}\n",
      "{'first': 12, 'second': 2, 'third': 3, 'fourth': 4}\n"
     ]
    }
   ],
   "source": [
    "#新增元素\n",
    "dic = {\"first\":1,\n",
    "       \"second\":2,\n",
    "       \"third\":3\n",
    "       }\n",
    "\n",
    "dic[\"fourth\"] = 4\n",
    "print(dic)\n",
    "\n",
    "#修改元素\n",
    "dic['first'] = 12\n",
    "print(dic)"
   ]
  },
  {
   "cell_type": "code",
   "execution_count": null,
   "metadata": {},
   "outputs": [],
   "source": []
  },
  {
   "cell_type": "markdown",
   "metadata": {},
   "source": [
    "## 字典的特点\n",
    "key不可以重复\\\n",
    "没有下表索引\\\n",
    "可以嵌套(除了key不可以是字典)\\\n",
    "\n"
   ]
  }
 ],
 "metadata": {
  "kernelspec": {
   "display_name": "base",
   "language": "python",
   "name": "python3"
  },
  "language_info": {
   "codemirror_mode": {
    "name": "ipython",
    "version": 3
   },
   "file_extension": ".py",
   "mimetype": "text/x-python",
   "name": "python",
   "nbconvert_exporter": "python",
   "pygments_lexer": "ipython3",
   "version": "3.9.13"
  },
  "orig_nbformat": 4
 },
 "nbformat": 4,
 "nbformat_minor": 2
}
