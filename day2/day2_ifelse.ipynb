{
 "cells": [
  {
   "cell_type": "markdown",
   "metadata": {},
   "source": [
    "# 判断学习"
   ]
  },
  {
   "cell_type": "markdown",
   "metadata": {},
   "source": [
    "## 布尔类型"
   ]
  },
  {
   "cell_type": "code",
   "execution_count": 1,
   "metadata": {},
   "outputs": [
    {
     "name": "stdout",
     "output_type": "stream",
     "text": [
      "True False <class 'bool'> <class 'bool'>\n"
     ]
    }
   ],
   "source": [
    "#bool True/False\n",
    "#注意大写\n",
    "bool_1 = True\n",
    "bool_2 = False\n",
    "print(bool_1,bool_2,type(bool_1),type(bool_2))"
   ]
  },
  {
   "cell_type": "code",
   "execution_count": 13,
   "metadata": {},
   "outputs": [
    {
     "name": "stdout",
     "output_type": "stream",
     "text": [
      "True\n",
      "False\n",
      "False\n",
      "True\n",
      "False\n",
      "False\n"
     ]
    }
   ],
   "source": [
    "#比较运算 \n",
    "print(f\"{10 == 10}\")\n",
    "print(f\"{10 != 10}\")\n",
    "print(f\"{10 > 10}\")\n",
    "print(f\"{10 == 10}\")\n",
    "\n",
    "print(f\"{'asd' == 10}\")#字符串也可以 注意这里，如果asd是双引号则报错，不能和f的引号一样\n",
    "print(f\"{'atdd' <= 'asdda'}\")#字符串是比较ascii码的大小，"
   ]
  },
  {
   "cell_type": "markdown",
   "metadata": {},
   "source": [
    "# if语句"
   ]
  },
  {
   "cell_type": "code",
   "execution_count": 15,
   "metadata": {},
   "outputs": [
    {
     "name": "stdout",
     "output_type": "stream",
     "text": [
      "you have a young heart\n",
      "just do it!\n"
     ]
    }
   ],
   "source": [
    "age =44\n",
    "if age >= 18:\n",
    "    if age <=30:        #注意引号\n",
    "        print(\"you can do everything\")\n",
    "        print(\"thats not too late!\")\n",
    "    else:\n",
    "        print(\"you have a young heart\")\n",
    "        print(\"just do it!\")"
   ]
  },
  {
   "cell_type": "markdown",
   "metadata": {},
   "source": [
    "## if elif else语句"
   ]
  },
  {
   "cell_type": "code",
   "execution_count": 16,
   "metadata": {},
   "outputs": [
    {
     "name": "stdout",
     "output_type": "stream",
     "text": [
      "i dont like you\n"
     ]
    }
   ],
   "source": [
    "height = int(input(\"input your height:\"))\n",
    "#可以判断多个条件，不只可以判断一个条件的多个形态\n",
    "if height < 120:\n",
    "    print(\"you too low\")\n",
    "elif height < 180:\n",
    "    print(\"i dont like you\")\n",
    "else :\n",
    "    print(\"good\")   "
   ]
  },
  {
   "cell_type": "code",
   "execution_count": 21,
   "metadata": {},
   "outputs": [
    {
     "name": "stdout",
     "output_type": "stream",
     "text": [
      "我告诉你吧，是10\n"
     ]
    }
   ],
   "source": [
    "#prac\n",
    "age = 10\n",
    "if (int(input(\"请输入你第一次猜想的数字：\")) == age):\n",
    "    print(\"你猜对啦~\")\n",
    "elif(int(input(\"不对哦，请输入你第二次猜想的数字：\")) == age):\n",
    "    print(\"你猜对啦~\")\n",
    "elif(int(input(\"不对哦，请输入你第三次猜想的数字：\")) == age):\n",
    "    print(\"你猜对啦~\")\n",
    "else:\n",
    "    print(\"我告诉你吧，是%d\"%age)\n",
    "    "
   ]
  },
  {
   "cell_type": "markdown",
   "metadata": {},
   "source": [
    "## 嵌套使用"
   ]
  },
  {
   "cell_type": "code",
   "execution_count": 29,
   "metadata": {},
   "outputs": [
    {
     "name": "stdout",
     "output_type": "stream",
     "text": [
      "你猜小啦，再猜测一遍吧\n",
      "你猜小啦，再猜测一遍吧\n",
      "我告诉你吧，数字是6\n"
     ]
    }
   ],
   "source": [
    "import random\n",
    "num = random.randint(1,10)\n",
    "\n",
    "num1 =int(input(\"输入你要猜的数字吧~\"))\n",
    "if( num1 == num):\n",
    "    print(\"你猜对啦，数字是%d\"%num)\n",
    "elif(num1 < num):\n",
    "    print(\"你猜小啦，再猜测一遍吧\")\n",
    "    num2 = int(input(\"第2次输入你要猜的数字吧~\"))\n",
    "    if(num2 == num):\n",
    "        print(\"你猜对啦，数字是%d\"%num)\n",
    "    elif(num1 < num):\n",
    "        print(\"你猜小啦，再猜测一遍吧\")\n",
    "        num3 = int(input(\"第3次输入你要猜的数字吧~\"))\n",
    "        if(num3 == num):\n",
    "            print(\"你猜对啦，数字是%d\"%num)\n",
    "        else:\n",
    "            print(\"我告诉你吧，数字是%d\"%num)\n",
    "    elif(num1 > num):\n",
    "        print(\"你猜大啦，再猜测一遍吧\")\n",
    "        num3 = int(input(\"第3次输入你要猜的数字吧~\"))\n",
    "        if(num3 == num):\n",
    "            print(\"你猜对啦，数字是%d\"%num)\n",
    "        else:\n",
    "            print(\"我告诉你吧，数字是%d\"%num)\n",
    "elif(num1 > num):\n",
    "    print(\"你猜大啦，再猜测一遍吧\")\n",
    "    num2 = int(input(\"第2次输入你要猜的数字吧~\"))\n",
    "    if(num2 == num):\n",
    "        print(\"你猜对啦，数字是%d\"%num)\n",
    "    elif(num1 < num):\n",
    "        print(\"你猜小啦，再猜测一遍吧\")\n",
    "        num3 = int(input(\"第3次输入你要猜的数字吧~\"))\n",
    "        if(num3 == num):\n",
    "            print(\"你猜对啦，数字是%d\"%num)\n",
    "        else:\n",
    "            print(\"我告诉你吧，数字是%d\"%num)\n",
    "    elif(num1 > num):\n",
    "        print(\"你猜大啦，再猜测一遍吧\")\n",
    "        num3 = int(input(\"第3次输入你要猜的数字吧~\"))\n",
    "        if(num3 == num):\n",
    "            print(\"你猜对啦，数字是%d\"%num)\n",
    "        else:\n",
    "            print(\"我告诉你吧，数字是%d\"%num)"
   ]
  }
 ],
 "metadata": {
  "kernelspec": {
   "display_name": "base",
   "language": "python",
   "name": "python3"
  },
  "language_info": {
   "codemirror_mode": {
    "name": "ipython",
    "version": 3
   },
   "file_extension": ".py",
   "mimetype": "text/x-python",
   "name": "python",
   "nbconvert_exporter": "python",
   "pygments_lexer": "ipython3",
   "version": "3.9.13"
  },
  "orig_nbformat": 4
 },
 "nbformat": 4,
 "nbformat_minor": 2
}
