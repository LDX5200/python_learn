{
 "cells": [
  {
   "cell_type": "markdown",
   "metadata": {},
   "source": [
    "# 循环语句"
   ]
  },
  {
   "cell_type": "markdown",
   "metadata": {},
   "source": [
    "## while 循环\n"
   ]
  },
  {
   "cell_type": "code",
   "execution_count": 2,
   "metadata": {},
   "outputs": [
    {
     "name": "stdout",
     "output_type": "stream",
     "text": [
      "this is 0\n",
      "this is 1\n",
      "this is 2\n",
      "this is 3\n",
      "this is 4\n",
      "this is 5\n",
      "this is 6\n",
      "this is 7\n",
      "this is 8\n",
      "this is 9\n"
     ]
    }
   ],
   "source": [
    "i = 0\n",
    "while i < 10:\n",
    "    print(\"this is %d\"%i)\n",
    "    i += 1 #python 没有++ --"
   ]
  },
  {
   "cell_type": "code",
   "execution_count": 7,
   "metadata": {},
   "outputs": [
    {
     "name": "stdout",
     "output_type": "stream",
     "text": [
      "5050\n"
     ]
    }
   ],
   "source": [
    "#求1 - 100 的和\n",
    "i = int(1)\n",
    "sum = int(0)\n",
    "while i <= 100:\n",
    "    sum += i\n",
    "    i += 1\n",
    "print(sum)"
   ]
  },
  {
   "cell_type": "code",
   "execution_count": 8,
   "metadata": {},
   "outputs": [
    {
     "name": "stdout",
     "output_type": "stream",
     "text": [
      "你猜小了\n",
      "你猜小了\n",
      "你猜小了\n",
      "你猜大了\n",
      "你猜大了\n",
      "你猜对啦，数字是12，你猜测了6次\n"
     ]
    }
   ],
   "source": [
    "#猜数字 while版本\n",
    "import random\n",
    "num = random.randint(0,100)\n",
    "yournum = int(input(\"你猜猜吧\"))\n",
    "total = int(1)\n",
    "\n",
    "while num != yournum:\n",
    "    if(yournum < num):\n",
    "        print(\"你猜小了\")\n",
    "    else:\n",
    "        print(\"你猜大了\")\n",
    "    yournum = int(input(\"再猜测一次吧\"))\n",
    "    total += 1\n",
    "print(f\"你猜对啦，数字是{num}，你猜测了{total}次\")\n"
   ]
  },
  {
   "cell_type": "code",
   "execution_count": 5,
   "metadata": {},
   "outputs": [
    {
     "name": "stdout",
     "output_type": "stream",
     "text": [
      "1*1=1\t\n",
      "\n",
      "1*2=2\t2*2=4\t\n",
      "\n",
      "1*3=3\t2*3=6\t3*3=9\t\n",
      "\n",
      "1*4=4\t2*4=8\t3*4=12\t4*4=16\t\n",
      "\n",
      "1*5=5\t2*5=10\t3*5=15\t4*5=20\t5*5=25\t\n",
      "\n",
      "1*6=6\t2*6=12\t3*6=18\t4*6=24\t5*6=30\t6*6=36\t\n",
      "\n",
      "1*7=7\t2*7=14\t3*7=21\t4*7=28\t5*7=35\t6*7=42\t7*7=49\t\n",
      "\n",
      "1*8=8\t2*8=16\t3*8=24\t4*8=32\t5*8=40\t6*8=48\t7*8=56\t8*8=64\t\n",
      "\n",
      "1*9=9\t2*9=18\t3*9=27\t4*9=36\t5*9=45\t6*9=54\t7*9=63\t8*9=72\t9*9=81\t\n",
      "\n"
     ]
    }
   ],
   "source": [
    "#九九乘法表\n",
    "#加上 end = '' 即可不换行\n",
    "# \\t 制表符 可以对齐\n",
    "i = int(1)\n",
    "j = int(1)\n",
    "while i <= 9:\n",
    "    while j <= i:\n",
    "        print(f\"{j}*{i}={j*i}\\t\",end = '')\n",
    "        j = j + 1\n",
    "    print('\\n')\n",
    "    i += 1\n",
    "    j = 1\n",
    "\n"
   ]
  },
  {
   "cell_type": "markdown",
   "metadata": {},
   "source": [
    "## for循环"
   ]
  },
  {
   "cell_type": "code",
   "execution_count": 11,
   "metadata": {},
   "outputs": [
    {
     "name": "stdout",
     "output_type": "stream",
     "text": [
      "j u s t   a   c o d e "
     ]
    }
   ],
   "source": [
    "#python的for循环很牛逼\n",
    "#python for不能做无限循环\n",
    "name = 'just a code'\n",
    "for x in name:\n",
    "    print(f'{x} ',end = '')"
   ]
  },
  {
   "cell_type": "code",
   "execution_count": 13,
   "metadata": {},
   "outputs": [
    {
     "name": "stdout",
     "output_type": "stream",
     "text": [
      "i am a good good boy里有2个a\n"
     ]
    }
   ],
   "source": [
    "#练习 数一数有几个a\n",
    "name = 'i am a good good boy'\n",
    "sum = int(0)\n",
    "for x in name:\n",
    "    if x == 'a':\n",
    "        sum += 1\n",
    "print(f'{name}里有{sum}个a')"
   ]
  },
  {
   "cell_type": "markdown",
   "metadata": {},
   "source": [
    "### range语句"
   ]
  },
  {
   "cell_type": "code",
   "execution_count": 25,
   "metadata": {},
   "outputs": [
    {
     "name": "stdout",
     "output_type": "stream",
     "text": [
      "0 1 2 3 4 5 6 7 8 9 \n",
      "\n",
      "2 3 4 5 6 7 8 9 \n",
      "\n",
      "1 3 5 7 9 "
     ]
    }
   ],
   "source": [
    "#range(5) 是0，1，2，3，4 从0开始，到5，不含5本身\n",
    "#range(num1,num2)从[num1,num2)\n",
    "#range(num1,num2,step)从[num1,num2)每个加step\n",
    "#end = '' 就是在每个输出结尾加一个''里面的 且不换行\n",
    "for x in range(10):\n",
    "    print(x,end=' ')\n",
    "\n",
    "print('\\n')\n",
    "\n",
    "for x in range(2,10):\n",
    "    print(x,end = ' ')\n",
    "\n",
    "print('\\n')\n",
    "\n",
    "for x in range(1,10,2):\n",
    "    print(x,end=' ') #如果结尾没到达 就不输出结尾"
   ]
  },
  {
   "cell_type": "code",
   "execution_count": 29,
   "metadata": {},
   "outputs": [
    {
     "name": "stdout",
     "output_type": "stream",
     "text": [
      "从1-20，有9个偶数\n"
     ]
    }
   ],
   "source": [
    "#练习   1-num 有几个偶数 不含num\n",
    "num = int(input())\n",
    "sum = int(0)\n",
    "for x in range(1,num):\n",
    "    if(x % 2 ==0):\n",
    "        sum += 1\n",
    "print(f'从1-{num}，有{sum}个偶数')"
   ]
  },
  {
   "cell_type": "markdown",
   "metadata": {},
   "source": [
    "### 变量作用域\n",
    "    for循环的作用域就在for循环内，除非是在for循环之前就定义它"
   ]
  },
  {
   "cell_type": "markdown",
   "metadata": {},
   "source": [
    "### for循环的嵌套"
   ]
  },
  {
   "cell_type": "code",
   "execution_count": 33,
   "metadata": {},
   "outputs": [
    {
     "name": "stdout",
     "output_type": "stream",
     "text": [
      "1*1=1\t\n",
      "1*2=2\t2*2=4\t\n",
      "1*3=3\t2*3=6\t3*3=9\t\n",
      "1*4=4\t2*4=8\t3*4=12\t4*4=16\t\n",
      "1*5=5\t2*5=10\t3*5=15\t4*5=20\t5*5=25\t\n",
      "1*6=6\t2*6=12\t3*6=18\t4*6=24\t5*6=30\t6*6=36\t\n",
      "1*7=7\t2*7=14\t3*7=21\t4*7=28\t5*7=35\t6*7=42\t7*7=49\t\n",
      "1*8=8\t2*8=16\t3*8=24\t4*8=32\t5*8=40\t6*8=48\t7*8=56\t8*8=64\t\n",
      "1*9=9\t2*9=18\t3*9=27\t4*9=36\t5*9=45\t6*9=54\t7*9=63\t8*9=72\t9*9=81\t\n"
     ]
    }
   ],
   "source": [
    "#九九乘法表 for循环版\n",
    "for i in range(1,10):\n",
    "    for j in range(1,i+1):\n",
    "        print(f'{j}*{i}={j*i}\\t',end = '')\n",
    "    print()\n",
    "        "
   ]
  },
  {
   "cell_type": "markdown",
   "metadata": {},
   "source": [
    "## 循环中断 break continue\n",
    "    continue 中断本次循环 直接跳到下一次循环\n",
    "    break 结束循环"
   ]
  },
  {
   "cell_type": "markdown",
   "metadata": {},
   "source": [
    "## 综合案例 发工资"
   ]
  },
  {
   "cell_type": "code",
   "execution_count": 9,
   "metadata": {},
   "outputs": [
    {
     "name": "stdout",
     "output_type": "stream",
     "text": [
      "员工1，满足条件，发放工资1000，公司账户余额: 9000\n",
      "员工2，满足条件，发放工资1000，公司账户余额: 8000\n",
      "员工3，满足条件，发放工资1000，公司账户余额: 7000\n",
      "员工4，绩效分4，不满足，不发工资，下一位\n",
      "员工5，满足条件，发放工资1000，公司账户余额: 6000\n",
      "员工6，绩效分2，不满足，不发工资，下一位\n",
      "员工7，绩效分3，不满足，不发工资，下一位\n",
      "员工8，绩效分4，不满足，不发工资，下一位\n",
      "员工9，绩效分3，不满足，不发工资，下一位\n",
      "员工10，绩效分3，不满足，不发工资，下一位\n",
      "员工11，绩效分3，不满足，不发工资，下一位\n",
      "员工12，满足条件，发放工资1000，公司账户余额: 5000\n",
      "员工13，满足条件，发放工资1000，公司账户余额: 4000\n",
      "员工14，满足条件，发放工资1000，公司账户余额: 3000\n",
      "员工15，绩效分2，不满足，不发工资，下一位\n",
      "员工16，满足条件，发放工资1000，公司账户余额: 2000\n",
      "员工17，绩效分4，不满足，不发工资，下一位\n",
      "员工18，满足条件，发放工资1000，公司账户余额: 1000\n",
      "员工19，满足条件，发放工资1000，公司账户余额: 0\n",
      "员工20，绩效分4，不满足，不发工资，下一位\n"
     ]
    }
   ],
   "source": [
    "import random\n",
    "money = 10000\n",
    "#for露环对员工发放工资\n",
    "for i in range(1,21):\n",
    "    score = random.randint(1,10)\n",
    "    if score < 5:\n",
    "        print(f\"员工{i}，绩效分{score}，不满足，不发工资，下一位\")\n",
    "        # continue 跳过发放\n",
    "        continue\n",
    "    #要判断余额足不足\n",
    "    if money >= 1000:\n",
    "        money -= 1000\n",
    "        print(f\"员工{i}，满足条件，发放工资1000，公司账户余额: {money}\")\n",
    "    else:\n",
    "        print(f\"余额不足，当前余额: {money}元，不足以发工资，不发了，下个月再来\")\n",
    "        #breok结束发放\n",
    "        break\n"
   ]
  }
 ],
 "metadata": {
  "kernelspec": {
   "display_name": "base",
   "language": "python",
   "name": "python3"
  },
  "language_info": {
   "codemirror_mode": {
    "name": "ipython",
    "version": 3
   },
   "file_extension": ".py",
   "mimetype": "text/x-python",
   "name": "python",
   "nbconvert_exporter": "python",
   "pygments_lexer": "ipython3",
   "version": "3.9.13"
  },
  "orig_nbformat": 4
 },
 "nbformat": 4,
 "nbformat_minor": 2
}
