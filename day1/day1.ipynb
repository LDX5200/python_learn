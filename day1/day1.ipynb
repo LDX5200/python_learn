{
 "cells": [
  {
   "cell_type": "markdown",
   "metadata": {},
   "source": [
    "# 字符串扩展"
   ]
  },
  {
   "cell_type": "markdown",
   "metadata": {},
   "source": [
    "`input()`输入语句"
   ]
  },
  {
   "cell_type": "code",
   "execution_count": 2,
   "metadata": {},
   "outputs": [],
   "source": [
    "name = input()\n",
    "print(name)\n",
    "\n",
    "int(name)\n",
    "print(type(name))"
   ]
  },
  {
   "cell_type": "markdown",
   "metadata": {},
   "source": [
    "字符串定义"
   ]
  },
  {
   "cell_type": "code",
   "execution_count": 4,
   "metadata": {},
   "outputs": [
    {
     "name": "stdout",
     "output_type": "stream",
     "text": [
      "<class 'str'>\n",
      "<class 'str'>\n",
      "<class 'str'>\n"
     ]
    }
   ],
   "source": [
    "name1 = 'name1'\n",
    "name2 = \"name2\"\n",
    "name3 = '''\n",
    "            i \n",
    "            love\n",
    "            u'''\n",
    "print((type)(name1))\n",
    "print((type)(name2))\n",
    "print((type)(name3))"
   ]
  },
  {
   "cell_type": "code",
   "execution_count": 5,
   "metadata": {},
   "outputs": [
    {
     "name": "stdout",
     "output_type": "stream",
     "text": [
      "\"\n"
     ]
    }
   ],
   "source": [
    "name = \"\\\"\" #反斜杠 \\ 是用来转意的 后面的就是变成str\n",
    "print (name)"
   ]
  },
  {
   "cell_type": "markdown",
   "metadata": {},
   "source": [
    "字符串的拼接"
   ]
  },
  {
   "cell_type": "code",
   "execution_count": 9,
   "metadata": {},
   "outputs": [
    {
     "name": "stdout",
     "output_type": "stream",
     "text": [
      "i can doall things\n",
      "who? me!\n"
     ]
    },
    {
     "ename": "TypeError",
     "evalue": "can only concatenate str (not \"int\") to str",
     "output_type": "error",
     "traceback": [
      "\u001b[1;31m---------------------------------------------------------------------------\u001b[0m",
      "\u001b[1;31mTypeError\u001b[0m                                 Traceback (most recent call last)",
      "\u001b[1;32m~\\AppData\\Local\\Temp\\ipykernel_10956\\4263996240.py\u001b[0m in \u001b[0;36m<module>\u001b[1;34m\u001b[0m\n\u001b[0;32m      7\u001b[0m \u001b[1;31m#类型冲突\u001b[0m\u001b[1;33m\u001b[0m\u001b[1;33m\u001b[0m\u001b[0m\n\u001b[0;32m      8\u001b[0m \u001b[0mtel\u001b[0m \u001b[1;33m=\u001b[0m \u001b[1;36m1234\u001b[0m\u001b[1;33m\u001b[0m\u001b[1;33m\u001b[0m\u001b[0m\n\u001b[1;32m----> 9\u001b[1;33m \u001b[0mprint\u001b[0m\u001b[1;33m(\u001b[0m\u001b[0mstr1\u001b[0m \u001b[1;33m+\u001b[0m \u001b[0mtel\u001b[0m\u001b[1;33m)\u001b[0m\u001b[1;33m\u001b[0m\u001b[1;33m\u001b[0m\u001b[0m\n\u001b[0m",
      "\u001b[1;31mTypeError\u001b[0m: can only concatenate str (not \"int\") to str"
     ]
    }
   ],
   "source": [
    "print(\"i can do\" + \"all things\")\n",
    "\n",
    "str1 = \"who?\"\n",
    "str2 = \"me!\"\n",
    "print(str1 + \" \" + str2)\n",
    "\n",
    "#类型冲突 直接用加号只能完成字符串的拼接\n",
    "tel = 1234\n",
    "print(str1 + tel)"
   ]
  },
  {
   "cell_type": "markdown",
   "metadata": {},
   "source": [
    "字符串格式化"
   ]
  },
  {
   "cell_type": "code",
   "execution_count": 8,
   "metadata": {},
   "outputs": [
    {
     "name": "stdout",
     "output_type": "stream",
     "text": [
      "1 123123,2 123.123123,3 asd\n"
     ]
    }
   ],
   "source": [
    "#%s ,%d，%f\n",
    "str1 = 'asd'\n",
    "num1 = 123123\n",
    "float1 = 123.123123\n",
    "print(\"1 %d,2 %f,3 %s\"%(num1,float1,str1))\n"
   ]
  },
  {
   "cell_type": "markdown",
   "metadata": {},
   "source": [
    "数字精度控制"
   ]
  },
  {
   "cell_type": "code",
   "execution_count": 16,
   "metadata": {},
   "outputs": [
    {
     "name": "stdout",
     "output_type": "stream",
     "text": [
      "this is begin  12.12\n"
     ]
    }
   ],
   "source": [
    "#不足的就会用空格补足\n",
    "num1 = 12.123\n",
    "print('this is begin%7.2f'%num1)#注意 %7.2d 的7是宽度，就是整体的宽度包括小数前后的"
   ]
  },
  {
   "cell_type": "markdown",
   "metadata": {},
   "source": [
    "快速格式化"
   ]
  },
  {
   "cell_type": "code",
   "execution_count": 17,
   "metadata": {},
   "outputs": [
    {
     "name": "stdout",
     "output_type": "stream",
     "text": [
      "str is str, num is 123, float is 123.123\n"
     ]
    }
   ],
   "source": [
    "#不能做精度控制\n",
    "str1 = 'str'\n",
    "num1 = 123\n",
    "float1 = 123.123\n",
    "#f : format\n",
    "print(f\"str is {str1}, num is {num1}, float is {float1}\")\n"
   ]
  },
  {
   "cell_type": "markdown",
   "metadata": {},
   "source": [
    "表达式格式化"
   ]
  },
  {
   "cell_type": "code",
   "execution_count": 18,
   "metadata": {},
   "outputs": [
    {
     "name": "stdout",
     "output_type": "stream",
     "text": [
      "num = 4\n",
      "num = 7\n"
     ]
    }
   ],
   "source": [
    "#可以直接格式化表达式\n",
    "print(f\"num = {1 + 3}\")\n",
    "print(\"num = %d\"%(3 + 4))"
   ]
  },
  {
   "cell_type": "markdown",
   "metadata": {},
   "source": [
    "## 练习 股票计算价格小程序"
   ]
  },
  {
   "cell_type": "code",
   "execution_count": 25,
   "metadata": {},
   "outputs": [
    {
     "name": "stdout",
     "output_type": "stream",
     "text": [
      "公司：传智博客,股票代码：003032,当前股价：19.99\n",
      "每日增长系数是：1.2,经过7天的增长后，股价达到了：71.63\n"
     ]
    }
   ],
   "source": [
    "name = \"传智博客\"\n",
    "stock_price = 19.99\n",
    "stock_code = '003032'\n",
    "stock_price_daily_growth_factor = 1.2\n",
    "growth_days = 7\n",
    "print(f\"公司：{name},股票代码：{stock_code},当前股价：{stock_price}\")\n",
    "print(\"每日增长系数是：%.1f,经过%d天的增长后，股价达到了：%.2f\"%(stock_price_daily_growth_factor,growth_days,stock_price*stock_price_daily_growth_factor**growth_days))\n",
    "#**是乘方 优先级比乘法高\n"
   ]
  }
 ],
 "metadata": {
  "kernelspec": {
   "display_name": "base",
   "language": "python",
   "name": "python3"
  },
  "language_info": {
   "codemirror_mode": {
    "name": "ipython",
    "version": 3
   },
   "file_extension": ".py",
   "mimetype": "text/x-python",
   "name": "python",
   "nbconvert_exporter": "python",
   "pygments_lexer": "ipython3",
   "version": "3.9.13"
  },
  "orig_nbformat": 4
 },
 "nbformat": 4,
 "nbformat_minor": 2
}
